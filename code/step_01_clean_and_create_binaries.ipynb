{
 "cells": [
  {
   "cell_type": "code",
   "execution_count": 1,
   "id": "2e2df5f0",
   "metadata": {},
   "outputs": [],
   "source": [
    "import pandas as pd\n",
    "from pathlib import Path\n",
    "import pickle"
   ]
  },
  {
   "cell_type": "code",
   "execution_count": 2,
   "id": "7f70ddc5",
   "metadata": {},
   "outputs": [],
   "source": [
    "# Set the relative file path for dynamic and status files\n",
    "opm_dynamic_path = Path('../raw_data/opm-federal-employment-data/data/1973-09-to-2014-06/non-dod/dynamic')\n",
    "opm_status_path = Path('../raw_data/opm-federal-employment-data/data/1973-09-to-2014-06/non-dod/status')\n",
    "opm_dynamic_path_dask = Path('../raw_data/opm-federal-employment-data/data/1973-09-to-2014-06/non-dod/dynamic/*.NONDOD.FO05M3.TXT')\n",
    "opm_status_path_dask = Path('../raw_data/opm-federal-employment-data/data/1973-09-to-2014-06/non-dod/status/Status_Non_DoD_*_*.txt')"
   ]
  },
  {
   "cell_type": "code",
   "execution_count": 3,
   "id": "07cd5fbf",
   "metadata": {},
   "outputs": [],
   "source": [
    "# Define the fwf dict for reading OPM files\n",
    "opm_dynamic_fwf_dict = {\n",
    "    'Pseudo-ID': (0, 9),\n",
    "    'Employee Name': (9, 32),\n",
    "    'Agency/Subelement': (32, 36),\n",
    "    'Accession/Separation Indicator': (36, 38),\n",
    "    'Effective Date (year)': (38, 42),\n",
    "    'Effective Date (month)': (42, 44),\n",
    "    'Effective Date (day)': (44, 46),\n",
    "    'Age': (46, 52),\n",
    "    'Pay Plan': (52, 54),\n",
    "    'Grade': (54, 56),\n",
    "    'LOS Level': (56, 62),\n",
    "    'Duty Station': (62, 71),\n",
    "    'Occupation': (71, 75),\n",
    "    'Occupational Cateogy (PATCO)': (75, 76),\n",
    "    'Adjusted Basic Pay': (76, 82),\n",
    "    'Type of Appointment': (82, 84),\n",
    "    'Work Schedule': (84, 85)\n",
    "}\n",
    "\n",
    "opm_status_fwf_dict = {\n",
    "    'Pseudo-ID': (0, 9),\n",
    "    'Employee Name': (9, 32),\n",
    "    'File Date (year)': (32, 36),\n",
    "    'File Date (month)': (36, 38),\n",
    "    'File Date (day)': (38, 40),\n",
    "    'Agency/Subelement': (40, 44),\n",
    "    'Duty Station': (44, 53),\n",
    "    'Age Range': (53, 59),\n",
    "    'Education Level': (59, 61),\n",
    "    'Pay Plan': (61, 63),\n",
    "    'Grade': (63, 65),\n",
    "    'LOS Level': (65, 71),\n",
    "    'Occupation': (71, 75),\n",
    "    'Occupational Category (PATCO)': (75, 76),\n",
    "    'Adjusted Basic Pay': (76, 82),\n",
    "    'Supervisory Status': (82, 83),\n",
    "    'Type of Appointment': (83, 85),\n",
    "    'Work Schedule': (85, 86),\n",
    "    'NSFTP Indicator': (86, 87)\n",
    "}"
   ]
  },
  {
   "cell_type": "code",
   "execution_count": 4,
   "id": "a957a471",
   "metadata": {},
   "outputs": [],
   "source": [
    "# Define the dicts for column dtypes\n",
    "opm_dynamic_dtype_dict = {\n",
    "    'Pseudo-ID': 'Int32',\n",
    "    'Employee Name': 'string',\n",
    "    'Agency/Subelement': 'category',\n",
    "    'Accession/Separation Indicator': 'category',\n",
    "    'Effective Date (year)': 'Int16',\n",
    "    'Effective Date (month)': 'Int8',\n",
    "    'Effective Date (day)': 'Int8',\n",
    "    'Age': 'category',\n",
    "    'Pay Plan': 'category',\n",
    "    'Grade': 'category',\n",
    "    'LOS Level': 'category',\n",
    "    'Duty Station': 'category',\n",
    "    'Occupation': 'category',\n",
    "    'Occupational Category (PATCO)': 'category',\n",
    "    'Adjusted Basic Pay': 'string',\n",
    "    'Type of Appointment': 'category',\n",
    "    'Work Schedule': 'category'\n",
    "}\n",
    "\n",
    "opm_status_dtype_dict = {\n",
    "    'Pseudo-ID': 'Int32',\n",
    "    'Employee Name': 'string',\n",
    "    'File Date (year)': 'Int16',\n",
    "    'File Date (month)': 'Int8',\n",
    "    'File Date (day)': 'Int8',\n",
    "    'Agency/Subelement': 'category',\n",
    "    'Duty Station': 'category',\n",
    "    'Age Range': 'category',\n",
    "    'Education Level': 'category',\n",
    "    'Pay Plan': 'category',\n",
    "    'Grade': 'category',\n",
    "    'LOS Level': 'category',\n",
    "    'Occupation': 'category',\n",
    "    'Occupational Category (PATCO)': 'category',\n",
    "    'Adjusted Basic Pay': 'string',\n",
    "    'Supervisory Status': 'category',\n",
    "    'Type of Appointment': 'category',\n",
    "    'Work Schedule': 'category',\n",
    "    'NSFTP Indicator': 'category'\n",
    "}"
   ]
  },
  {
   "cell_type": "code",
   "execution_count": 5,
   "id": "1d0e4244",
   "metadata": {},
   "outputs": [],
   "source": [
    "# Define functions that return a dict of files in the status or dynamic directory, indexed by year and quarter\n",
    "def produce_opm_dynamic_path_dict(input_path):\n",
    "    output_dict = {}\n",
    "    for file_path in Path(input_path).iterdir():\n",
    "        file_name = file_path.name\n",
    "        file_date = pd.to_datetime(file_name[0:7])\n",
    "        year = file_date.year\n",
    "        quarter = file_date.quarter\n",
    "        output_dict[(year, quarter)] = file_path\n",
    "\n",
    "    return output_dict\n",
    "\n",
    "def produce_opm_status_path_dict(input_path):\n",
    "    output_dict = {}\n",
    "    for file_path in Path(input_path).iterdir():\n",
    "        file_name = file_path.name\n",
    "        file_date = pd.to_datetime('-'.join(file_name[15:22].split('_')))\n",
    "        year = file_date.year\n",
    "        quarter = file_date.quarter\n",
    "        output_dict[(year, quarter)] = file_path\n",
    "\n",
    "    return output_dict"
   ]
  },
  {
   "cell_type": "code",
   "execution_count": 6,
   "id": "3bfeb434",
   "metadata": {},
   "outputs": [],
   "source": [
    "# Create dicts of paths of files\n",
    "opm_dynamic_path_dict = produce_opm_dynamic_path_dict(opm_dynamic_path)\n",
    "opm_status_path_dict = produce_opm_status_path_dict(opm_status_path)"
   ]
  },
  {
   "cell_type": "code",
   "execution_count": 7,
   "id": "cfd98052",
   "metadata": {},
   "outputs": [],
   "source": [
    "# Directory we are storing processed dataframes in binary format, for quick access later\n",
    "binary_path = Path('../cleaned_binaries/')\n",
    "binary_path.mkdir(parents = True, exist_ok = True)\n",
    "\n",
    "# Dictionary to store paths to processed binaries\n",
    "opm_dynamic_feather_path_dict = {}\n",
    "opm_status_feather_path_dict = {}"
   ]
  },
  {
   "cell_type": "code",
   "execution_count": null,
   "id": "0c98e132",
   "metadata": {},
   "outputs": [],
   "source": [
    "# Years and quarters we want to load (inclusive)\n",
    "start_year = 1973\n",
    "start_qtr = 3\n",
    "end_year = 2014\n",
    "end_qtr = 2"
   ]
  },
  {
   "cell_type": "code",
   "execution_count": 9,
   "id": "74081bd0",
   "metadata": {},
   "outputs": [
    {
     "name": "stdout",
     "output_type": "stream",
     "text": [
      "Loaded status file for year 1973, quarter 3.\n",
      "Redacted ABP conversion failed.\n"
     ]
    }
   ],
   "source": [
    "for year in range(start_year, end_year + 1):\n",
    "    for qtr in range(1, 5):\n",
    "        if (year == start_year) and (qtr < start_qtr):\n",
    "            continue\n",
    "        if (year == end_year) and (qtr > end_qtr):\n",
    "            continue\n",
    "\n",
    "        df = pd.read_fwf(opm_status_path_dict[(year, qtr)], colspecs = list(opm_status_fwf_dict.values()), names = list(opm_status_fwf_dict.keys()), dtype = opm_status_dtype_dict, encoding = 'latin-1')\n",
    "        print(f'Loaded status file for year {year}, quarter {qtr}.')\n",
    "\n",
    "        #n_redacted_abp = (df['Adjusted Basic Pay'] == '******').sum()\n",
    "        #df['Adjusted Basic Pay'] = pd.to_numeric(df['Adjusted Basic Pay'], errors = 'coerce') # Convert '******' to NA\n",
    "        # Check all NA 'Adjusted Basic Pay' are redacted\n",
    "        #n_missing_abp = df['Adjusted Basic Pay'].isna().sum()\n",
    "        #if n_redacted_abp != n_missing_abp:\n",
    "        #    print('Redacted ABP conversion failed.')\n",
    "\n",
    "        target_path = binary_path.joinpath(f'opm_status_{year}_{qtr}.feather')\n",
    "        df.to_feather(target_path)\n",
    "        opm_status_feather_path_dict[(year, qtr)] = target_path"
   ]
  },
  {
   "cell_type": "code",
   "execution_count": null,
   "id": "3ea58f1a",
   "metadata": {},
   "outputs": [],
   "source": [
    "# Save dictionaries for paths of binaries\n",
    "with open('opm_status_feather_path_dict.pkl', 'wb') as f:\n",
    "    pickle.dump(opm_status_feather_path_dict, f)"
   ]
  },
  {
   "cell_type": "code",
   "execution_count": null,
   "id": "5066d6cc",
   "metadata": {},
   "outputs": [],
   "source": [
    "start_year = 1982\n",
    "start_qtr = 1\n",
    "end_year = 2014\n",
    "end_qtr = 2"
   ]
  },
  {
   "cell_type": "code",
   "execution_count": null,
   "id": "1fa5f186",
   "metadata": {},
   "outputs": [
    {
     "name": "stdout",
     "output_type": "stream",
     "text": [
      "Loaded dynamic file for year 2000, quarter 1.\n",
      "Loaded dynamic file for year 2000, quarter 2.\n",
      "Loaded dynamic file for year 2000, quarter 3.\n",
      "Loaded dynamic file for year 2000, quarter 4.\n",
      "Loaded dynamic file for year 2001, quarter 1.\n",
      "Loaded dynamic file for year 2001, quarter 2.\n",
      "Loaded dynamic file for year 2001, quarter 3.\n",
      "Loaded dynamic file for year 2001, quarter 4.\n",
      "Loaded dynamic file for year 2002, quarter 1.\n",
      "Loaded dynamic file for year 2002, quarter 2.\n",
      "Loaded dynamic file for year 2002, quarter 3.\n",
      "Loaded dynamic file for year 2002, quarter 4.\n",
      "Loaded dynamic file for year 2003, quarter 1.\n",
      "Loaded dynamic file for year 2003, quarter 2.\n",
      "Loaded dynamic file for year 2003, quarter 3.\n",
      "Loaded dynamic file for year 2003, quarter 4.\n",
      "Loaded dynamic file for year 2004, quarter 1.\n",
      "Loaded dynamic file for year 2004, quarter 2.\n",
      "Loaded dynamic file for year 2004, quarter 3.\n",
      "Loaded dynamic file for year 2004, quarter 4.\n"
     ]
    }
   ],
   "source": [
    "for year in range(start_year, end_year + 1):\n",
    "    for qtr in range(1, 5):\n",
    "        if (year == start_year) and (qtr < start_qtr):\n",
    "            continue\n",
    "        if (year == end_year) and (qtr > end_qtr):\n",
    "            continue\n",
    "\n",
    "        df = pd.read_fwf(opm_dynamic_path_dict[(year, qtr)], colspecs = list(opm_dynamic_fwf_dict.values()), names = list(opm_dynamic_fwf_dict.keys()), dtype = opm_dynamic_dtype_dict, encoding = 'latin-1')\n",
    "        print(f'Loaded dynamic file for year {year}, quarter {qtr}.')\n",
    "\n",
    "        #n_redacted_abp = (df['Adjusted Basic Pay'] == '******').sum()\n",
    "        #df['Adjusted Basic Pay'] = pd.to_numeric(df['Adjusted Basic Pay'], errors = 'coerce') # Convert '******' to NA\n",
    "        # Check all NA 'Adjusted Basic Pay' are redacted\n",
    "        #n_missing_abp = df['Adjusted Basic Pay'].isna().sum()\n",
    "        #if n_redacted_abp != n_missing_abp:\n",
    "        #    print('Redacted ABP conversion failed.')\n",
    "        \n",
    "        target_path = binary_path.joinpath(f'opm_dynamic_{year}_{qtr}.feather')\n",
    "        df.to_feather(target_path)\n",
    "        opm_dynamic_feather_path_dict[(year, qtr)] = target_path"
   ]
  },
  {
   "cell_type": "code",
   "execution_count": null,
   "id": "583395ba",
   "metadata": {},
   "outputs": [],
   "source": [
    "# Save dictionaries for paths of binaries\n",
    "with open('opm_dynamic_feather_path_dict.pkl', 'wb') as f:\n",
    "    pickle.dump(opm_dynamic_feather_path_dict, f)"
   ]
  },
  {
   "cell_type": "code",
   "execution_count": null,
   "id": "0c95d4b2",
   "metadata": {},
   "outputs": [],
   "source": []
  }
 ],
 "metadata": {
  "kernelspec": {
   "display_name": "Python 3 (ipykernel)",
   "language": "python",
   "name": "python3"
  },
  "language_info": {
   "codemirror_mode": {
    "name": "ipython",
    "version": 3
   },
   "file_extension": ".py",
   "mimetype": "text/x-python",
   "name": "python",
   "nbconvert_exporter": "python",
   "pygments_lexer": "ipython3",
   "version": "3.9.7"
  }
 },
 "nbformat": 4,
 "nbformat_minor": 5
}
