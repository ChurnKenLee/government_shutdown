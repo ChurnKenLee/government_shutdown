{
 "cells": [
  {
   "cell_type": "code",
   "execution_count": 14,
   "metadata": {},
   "outputs": [],
   "source": [
    "import json"
   ]
  },
  {
   "cell_type": "code",
   "execution_count": 15,
   "metadata": {},
   "outputs": [],
   "source": [
    "# Define the fwf dict for reading OPM files\n",
    "opm_dynamic_fwf_dict = {\n",
    "    'Pseudo-ID': (0, 9),\n",
    "    'Employee Name': (9, 32),\n",
    "    'Agency/Subelement': (32, 36),\n",
    "    'Accession/Separation Indicator': (36, 38),\n",
    "    'Effective Date (year)': (38, 42),\n",
    "    'Effective Date (month)': (42, 44),\n",
    "    'Effective Date (day)': (44, 46),\n",
    "    'Age': (46, 52),\n",
    "    'Pay Plan': (52, 54),\n",
    "    'Grade': (54, 56),\n",
    "    'LOS Level': (56, 62),\n",
    "    'Duty Station': (62, 71),\n",
    "    'Occupation': (71, 75),\n",
    "    'Occupational Category (PATCO)': (75, 76),\n",
    "    'Adjusted Basic Pay': (76, 82),\n",
    "    'Type of Appointment': (82, 84),\n",
    "    'Work Schedule': (84, 85)\n",
    "}"
   ]
  },
  {
   "cell_type": "code",
   "execution_count": 16,
   "metadata": {},
   "outputs": [],
   "source": [
    "with open('opm_dynamic_fwf_dict.json', 'w') as outfile:\n",
    "    json.dump(opm_dynamic_fwf_dict, outfile, indent = 4)"
   ]
  },
  {
   "cell_type": "code",
   "execution_count": 17,
   "metadata": {},
   "outputs": [],
   "source": [
    "opm_status_fwf_dict = {\n",
    "    'Pseudo-ID': (0, 9),\n",
    "    'Employee Name': (9, 32),\n",
    "    'File Date (year)': (32, 36),\n",
    "    'File Date (month)': (36, 38),\n",
    "    'File Date (day)': (38, 40),\n",
    "    'Agency/Subelement': (40, 44),\n",
    "    'Duty Station': (44, 53),\n",
    "    'Age Range': (53, 59),\n",
    "    'Education Level': (59, 61),\n",
    "    'Pay Plan': (61, 63),\n",
    "    'Grade': (63, 65),\n",
    "    'LOS Level': (65, 71),\n",
    "    'Occupation': (71, 75),\n",
    "    'Occupational Category (PATCO)': (75, 76),\n",
    "    'Adjusted Basic Pay': (76, 82),\n",
    "    'Supervisory Status': (82, 83),\n",
    "    'Type of Appointment': (83, 85),\n",
    "    'Work Schedule': (85, 86),\n",
    "    'NSFTP Indicator': (86, 87)\n",
    "}"
   ]
  },
  {
   "cell_type": "code",
   "execution_count": 18,
   "metadata": {},
   "outputs": [],
   "source": [
    "with open('opm_status_fwf_dict.json', 'w') as outfile:\n",
    "    json.dump(opm_status_fwf_dict, outfile, indent = 4)"
   ]
  },
  {
   "cell_type": "code",
   "execution_count": 19,
   "metadata": {},
   "outputs": [],
   "source": [
    "# Define the dicts for column dtypes\n",
    "opm_dynamic_dtype_dict = {\n",
    "    'Pseudo-ID': 'string',\n",
    "    'Employee Name': 'string',\n",
    "    'Agency/Subelement': 'category',\n",
    "    'Accession/Separation Indicator': 'category',\n",
    "    'Effective Date (year)': 'Int16',\n",
    "    'Effective Date (month)': 'Int8',\n",
    "    'Effective Date (day)': 'Int8',\n",
    "    'Age': 'category',\n",
    "    'Pay Plan': 'category',\n",
    "    'Grade': 'category',\n",
    "    'LOS Level': 'category',\n",
    "    'Duty Station': 'category',\n",
    "    'Occupation': 'category',\n",
    "    'Occupational Category (PATCO)': 'category',\n",
    "    'Adjusted Basic Pay': 'string',\n",
    "    'Type of Appointment': 'category',\n",
    "    'Work Schedule': 'category'\n",
    "}"
   ]
  },
  {
   "cell_type": "code",
   "execution_count": 20,
   "metadata": {},
   "outputs": [],
   "source": [
    "with open('opm_dynamic_dtype_dict.json', 'w') as outfile:\n",
    "    json.dump(opm_dynamic_dtype_dict, outfile, indent = 4)"
   ]
  },
  {
   "cell_type": "code",
   "execution_count": 21,
   "metadata": {},
   "outputs": [],
   "source": [
    "opm_status_dtype_dict = {\n",
    "    'Pseudo-ID': 'string',\n",
    "    'Employee Name': 'string',\n",
    "    'File Date (year)': 'Int16',\n",
    "    'File Date (month)': 'Int8',\n",
    "    'File Date (day)': 'Int8',\n",
    "    'Agency/Subelement': 'category',\n",
    "    'Duty Station': 'category',\n",
    "    'Age Range': 'category',\n",
    "    'Education Level': 'category',\n",
    "    'Pay Plan': 'category',\n",
    "    'Grade': 'category',\n",
    "    'LOS Level': 'category',\n",
    "    'Occupation': 'category',\n",
    "    'Occupational Category (PATCO)': 'category',\n",
    "    'Adjusted Basic Pay': 'string',\n",
    "    'Supervisory Status': 'category',\n",
    "    'Type of Appointment': 'category',\n",
    "    'Work Schedule': 'category',\n",
    "    'NSFTP Indicator': 'category'\n",
    "}"
   ]
  },
  {
   "cell_type": "code",
   "execution_count": 22,
   "metadata": {},
   "outputs": [],
   "source": [
    "with open('opm_status_dtype_dict.json', 'w') as outfile:\n",
    "    json.dump(opm_status_dtype_dict, outfile, indent = 4)"
   ]
  },
  {
   "cell_type": "code",
   "execution_count": 23,
   "metadata": {},
   "outputs": [],
   "source": [
    "# Define dict of cols that are categorical dtype\n",
    "opm_dynamic_cat_col_list = [\n",
    "    'Agency/Subelement',\n",
    "    'Accession/Separation Indicator',\n",
    "    'Age',\n",
    "    'Pay Plan',\n",
    "    'Grade',\n",
    "    'LOS Level',\n",
    "    'Duty Station',\n",
    "    'Occupation',\n",
    "    'Type of Appointment',\n",
    "    'Work Schedule'\n",
    "    ]"
   ]
  },
  {
   "cell_type": "code",
   "execution_count": 24,
   "metadata": {},
   "outputs": [],
   "source": [
    "with open('opm_dynamic_cat_col_list.json', 'w') as outfile:\n",
    "    json.dump(opm_dynamic_cat_col_list, outfile, indent = 4)"
   ]
  },
  {
   "cell_type": "code",
   "execution_count": 25,
   "metadata": {},
   "outputs": [],
   "source": [
    "opm_status_cat_col_list = [\n",
    "    'Agency/Subelement',\n",
    "    'Duty Station',\n",
    "    'Age Range',\n",
    "    'Education Level',\n",
    "    'Pay Plan',\n",
    "    'Grade',\n",
    "    'LOS Level',\n",
    "    'Occupation',\n",
    "    'Occupational Category (PATCO)',\n",
    "    'Supervisory Status',\n",
    "    'Type of Appointment',\n",
    "    'Work Schedule',\n",
    "    'NSFTP Indicator'\n",
    "    ]"
   ]
  },
  {
   "cell_type": "code",
   "execution_count": 26,
   "metadata": {},
   "outputs": [],
   "source": [
    "with open('opm_status_cat_col_list.json', 'w') as outfile:\n",
    "    json.dump(opm_status_cat_col_list, outfile, indent = 4)"
   ]
  },
  {
   "cell_type": "code",
   "execution_count": null,
   "metadata": {},
   "outputs": [],
   "source": []
  }
 ],
 "metadata": {
  "interpreter": {
   "hash": "d17b7b52486b7ddd73814d01c6691018dc71175d95eb65a2b9cd66e1b85695ed"
  },
  "kernelspec": {
   "display_name": "Python 3.9.7 ('base')",
   "language": "python",
   "name": "python3"
  },
  "language_info": {
   "codemirror_mode": {
    "name": "ipython",
    "version": 3
   },
   "file_extension": ".py",
   "mimetype": "text/x-python",
   "name": "python",
   "nbconvert_exporter": "python",
   "pygments_lexer": "ipython3",
   "version": "3.9.7"
  },
  "orig_nbformat": 4
 },
 "nbformat": 4,
 "nbformat_minor": 2
}
