{
 "cells": [
  {
   "cell_type": "code",
   "execution_count": 1,
   "metadata": {},
   "outputs": [],
   "source": [
    "import pandas as pd\n",
    "from pandas.api.types import union_categoricals\n",
    "import numpy as np\n",
    "from pathlib import Path\n",
    "import pickle"
   ]
  },
  {
   "cell_type": "code",
   "execution_count": 2,
   "metadata": {},
   "outputs": [],
   "source": [
    "# Load dicts of paths of binaries\n",
    "with open('opm_dynamic_feather_path_dict.pkl', 'rb') as f:\n",
    "    opm_dynamic_feather_path_dict = pickle.load(f)\n",
    "\n",
    "with open('opm_status_feather_path_dict.pkl', 'rb') as f:\n",
    "    opm_status_feather_path_dict = pickle.load(f)"
   ]
  },
  {
   "cell_type": "code",
   "execution_count": 3,
   "metadata": {},
   "outputs": [],
   "source": [
    "opm_dynamic_cat_col_list = [\n",
    "    'Agency/Subelement',\n",
    "    'Accession/Separation Indicator',\n",
    "    'Age',\n",
    "    'Pay Plan',\n",
    "    'Grade',\n",
    "    'LOS Level',\n",
    "    'Duty Station',\n",
    "    'Occupation',\n",
    "    'Type of Appointment',\n",
    "    'Work Schedule'\n",
    "    ]"
   ]
  },
  {
   "cell_type": "code",
   "execution_count": 4,
   "metadata": {},
   "outputs": [],
   "source": [
    "opm_status_cat_col_list = [\n",
    "    'Agency/Subelement',\n",
    "    'Duty Station',\n",
    "    'Age Range',\n",
    "    'Education Level',\n",
    "    'Pay Plan',\n",
    "    'Grade',\n",
    "    'LOS Level',\n",
    "    'Occupation',\n",
    "    'Occupational Category (PATCO)',\n",
    "    'Supervisory Status',\n",
    "    'Type of Appointment',\n",
    "    'Work Schedule',\n",
    "    'NSFTP Indicator'\n",
    "    ]"
   ]
  },
  {
   "cell_type": "code",
   "execution_count": 5,
   "metadata": {},
   "outputs": [],
   "source": [
    "# Store categorical variable map for each categorical variable and year in nested dict\n",
    "opm_dynamic_cat_index_dict = {}\n",
    "opm_status_cat_index_dict = {}\n",
    "\n",
    "for col in opm_dynamic_cat_col_list:\n",
    "    opm_dynamic_cat_index_dict[col] = {}\n",
    "\n",
    "for col in opm_status_cat_col_list:\n",
    "    opm_status_cat_index_dict[col] = {}"
   ]
  },
  {
   "cell_type": "code",
   "execution_count": 6,
   "metadata": {},
   "outputs": [],
   "source": [
    "start_year = 1982\n",
    "start_qtr = 1\n",
    "end_year = 2014\n",
    "end_qtr = 2"
   ]
  },
  {
   "cell_type": "code",
   "execution_count": 7,
   "metadata": {},
   "outputs": [],
   "source": [
    "for year in range(start_year, end_year+1):\n",
    "    for qtr in range(1, 5):\n",
    "        if (year == start_year) and (qtr < start_qtr):\n",
    "            continue\n",
    "        if (year == end_year) and (qtr > end_qtr):\n",
    "            continue\n",
    "\n",
    "        df = pd.read_feather(opm_dynamic_feather_path_dict[(year, qtr)])\n",
    "\n",
    "        for col in opm_dynamic_cat_col_list:\n",
    "            cat_index = pd.CategoricalIndex(df[col])\n",
    "            opm_dynamic_cat_index_dict[col][(year, qtr)] = cat_index\n"
   ]
  },
  {
   "cell_type": "code",
   "execution_count": 8,
   "metadata": {},
   "outputs": [],
   "source": [
    "# Find the union across years of each categorical variable, and store resulting union in dict\n",
    "opm_dynamic_uc_dict = {}\n",
    "for col, cat_index_dict in opm_dynamic_cat_index_dict.items():\n",
    "    opm_dynamic_uc_dict[col] = union_categoricals([cat_index for cat_index in cat_index_dict.values()])"
   ]
  },
  {
   "cell_type": "code",
   "execution_count": 9,
   "metadata": {},
   "outputs": [],
   "source": [
    "start_year = 1973\n",
    "start_qtr = 3\n",
    "end_year = 2014\n",
    "end_qtr = 2"
   ]
  },
  {
   "cell_type": "code",
   "execution_count": 10,
   "metadata": {},
   "outputs": [],
   "source": [
    "for year in range(start_year, end_year+1):\n",
    "    for qtr in range(1, 5):\n",
    "        if (year == start_year) and (qtr < start_qtr):\n",
    "            continue\n",
    "        if (year == end_year) and (qtr > end_qtr):\n",
    "            continue\n",
    "\n",
    "        df = pd.read_feather(opm_status_feather_path_dict[(year, qtr)])\n",
    "\n",
    "        for col in opm_status_cat_col_list:\n",
    "            cat_index = pd.CategoricalIndex(df[col])\n",
    "            opm_status_cat_index_dict[col][(year, qtr)] = cat_index"
   ]
  },
  {
   "cell_type": "code",
   "execution_count": 14,
   "metadata": {},
   "outputs": [],
   "source": [
    "opm_status_uc_dict = {}\n",
    "for col, cat_index_dict in opm_status_cat_index_dict.items():\n",
    "    opm_status_uc_dict[col] = union_categoricals([cat_index for cat_index in cat_index_dict.values()])"
   ]
  },
  {
   "cell_type": "code",
   "execution_count": 19,
   "metadata": {},
   "outputs": [],
   "source": [
    "# Update categorical mapping for all binaries, to enable type retention when concatenating\n",
    "for yq, path in opm_dynamic_feather_path_dict.items():\n",
    "    df = pd.read_feather(path)\n",
    "\n",
    "    for col, uc in opm_dynamic_uc_dict.items():\n",
    "        df[col] = pd.Categorical(df[col], categories = uc.categories)\n",
    "\n",
    "    df.to_feather(path)"
   ]
  },
  {
   "cell_type": "code",
   "execution_count": 25,
   "metadata": {},
   "outputs": [],
   "source": [
    "for yq, path in opm_status_feather_path_dict.items():\n",
    "    df = pd.read_feather(path)\n",
    "\n",
    "    for col, uc in opm_status_uc_dict.items():\n",
    "        df[col] = pd.Categorical(df[col], categories = uc.categories)\n",
    "\n",
    "    df.to_feather(path)"
   ]
  },
  {
   "cell_type": "code",
   "execution_count": null,
   "metadata": {},
   "outputs": [],
   "source": []
  },
  {
   "cell_type": "code",
   "execution_count": null,
   "metadata": {},
   "outputs": [],
   "source": []
  }
 ],
 "metadata": {
  "interpreter": {
   "hash": "d17b7b52486b7ddd73814d01c6691018dc71175d95eb65a2b9cd66e1b85695ed"
  },
  "kernelspec": {
   "display_name": "Python 3.9.7 ('base')",
   "language": "python",
   "name": "python3"
  },
  "language_info": {
   "codemirror_mode": {
    "name": "ipython",
    "version": 3
   },
   "file_extension": ".py",
   "mimetype": "text/x-python",
   "name": "python",
   "nbconvert_exporter": "python",
   "pygments_lexer": "ipython3",
   "version": "3.9.7"
  },
  "orig_nbformat": 4
 },
 "nbformat": 4,
 "nbformat_minor": 2
}
