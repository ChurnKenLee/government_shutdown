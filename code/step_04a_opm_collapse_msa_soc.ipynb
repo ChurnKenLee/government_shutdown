{
 "cells": [
  {
   "cell_type": "code",
   "execution_count": 7,
   "metadata": {},
   "outputs": [],
   "source": [
    "from pathlib import Path\n",
    "import pandas as pd\n",
    "import json\n",
    "from itertools import islice"
   ]
  },
  {
   "cell_type": "code",
   "execution_count": 8,
   "metadata": {},
   "outputs": [],
   "source": [
    "opm_occ_soc_xwalk_df = pd.read_feather('../code_output/opm_occ_2018_soc_xwalk.feather')"
   ]
  },
  {
   "cell_type": "code",
   "execution_count": 9,
   "metadata": {},
   "outputs": [],
   "source": [
    "census_occ_1018_xwalk_df = pd.read_feather('../code_output/census_occ_1018_xwalk.feather')\n",
    "census_occ_0010_xwalk_df = pd.read_feather('../code_output/census_occ_0010_xwalk.feather')\n",
    "census_occ_1018_xwalk_df = census_occ_1018_xwalk_df[['2018_census_occ_code', '2010_census_occ_code']]\n",
    "soc_1018_xwalk_df = pd.read_feather('../code_output/soc_1018_xwalk.feather')\n",
    "soc_0010_xwalk_df = pd.read_feather('../code_output/soc_0010_xwalk.feather')\n",
    "dutystation_msa_xwalk_df = pd.read_feather('../code_output/dutystation_msa_xwalk.feather')"
   ]
  },
  {
   "cell_type": "code",
   "execution_count": 10,
   "metadata": {},
   "outputs": [],
   "source": [
    "# Load dicts of paths of binaries\n",
    "with open('../code_output/opm_nondod_status_pre2014_feather_path_dict.json', 'r') as infile:\n",
    "    opm_nondod_status_feather_path_dict = json.load(infile)\n",
    "\n",
    "with open('../code_output/opm_dod_status_pre2014_feather_path_dict.json', 'r') as infile:\n",
    "    opm_dod_status_feather_path_dict = json.load(infile)"
   ]
  },
  {
   "cell_type": "code",
   "execution_count": 11,
   "metadata": {},
   "outputs": [],
   "source": [
    "opm_collapsed_feather_path_dict = {}\n",
    "binary_path = Path('../cleaned_binaries/')"
   ]
  },
  {
   "cell_type": "code",
   "execution_count": 12,
   "metadata": {},
   "outputs": [
    {
     "name": "stdout",
     "output_type": "stream",
     "text": [
      "Collapsing year 1997.\n",
      "Collapsing year 1998.\n",
      "Collapsing year 1999.\n",
      "Collapsing year 2000.\n",
      "Collapsing year 2001.\n",
      "Collapsing year 2002.\n",
      "Collapsing year 2003.\n",
      "Collapsing year 2004.\n",
      "Collapsing year 2005.\n",
      "Collapsing year 2006.\n",
      "Collapsing year 2007.\n",
      "Collapsing year 2008.\n",
      "Collapsing year 2009.\n",
      "Collapsing year 2010.\n",
      "Collapsing year 2011.\n",
      "Collapsing year 2012.\n",
      "Collapsing year 2013.\n",
      "Collapsing year 2014.\n"
     ]
    }
   ],
   "source": [
    "for year, qtr_dict in opm_nondod_status_feather_path_dict.items():\n",
    "    year_df = pd.DataFrame()\n",
    "\n",
    "    if int(year) < 1997:\n",
    "        continue\n",
    "    \n",
    "    print(f'Collapsing year {year}.')\n",
    "\n",
    "    for qtr, file_path in qtr_dict.items():\n",
    "        df = pd.read_feather(Path(file_path))\n",
    "        year_df = pd.concat([year_df, df])\n",
    "\n",
    "    year_df = year_df[['Pseudo-ID', 'Employee Name', 'Duty Station', 'Occupation', 'Adjusted Basic Pay']] # Keep only variables we want\n",
    "    \n",
    "    # Add 2018 SOC codes, then add 2010 and 2000 Census OCC codes\n",
    "    merged_df = year_df.merge(opm_occ_soc_xwalk_df, how = 'inner', left_on = ['Occupation'], right_on = ['opm_occ_code'])\n",
    "    merged_df = merged_df.merge(census_occ_1018_xwalk_df, how = 'left', left_on = ['2018_census_occ_code'], right_on = ['2018_census_occ_code'])\n",
    "    merged_df = merged_df.merge(census_occ_0010_xwalk_df, how = 'left', left_on = ['2010_census_occ_code'], right_on = ['2010_census_occ_code'])\n",
    "\n",
    "    # Add MSA codes\n",
    "    merged_df = merged_df.merge(dutystation_msa_xwalk_df, how = 'inner', left_on = ['Duty Station'], right_on = ['duty_station_code'])\n",
    "\n",
    "    # Keep only 1 observation per worker in a given year\n",
    "    merged_df = merged_df[merged_df['msa_code'] != 'matched'] # Drop people who do not have an MSA code\n",
    "    merged_df.drop_duplicates(subset = ['Pseudo-ID'])\n",
    "\n",
    "    # Collapse by occupation code and MSA\n",
    "    if int(year) < 2010:\n",
    "        collapsed_df = merged_df.groupby(by = ['2000_census_occ_code', 'msa_code']).agg({\n",
    "            'Pseudo-ID': 'count',\n",
    "            'Adjusted Basic Pay': 'mean',\n",
    "            '2018_census_occ_title': 'first',\n",
    "            'county': 'first',\n",
    "            'state': 'first',\n",
    "        })\n",
    "    elif 2009 < int(year) < 2019:\n",
    "        collapsed_df = merged_df.groupby(by = ['2010_census_occ_code', 'msa_code']).agg({\n",
    "            'Pseudo-ID': 'count',\n",
    "            'Adjusted Basic Pay': 'mean',\n",
    "            '2018_census_occ_title': 'first',\n",
    "            'county': 'first',\n",
    "            'state': 'first',\n",
    "        })\n",
    "\n",
    "    # Cleap up collapsed df and export\n",
    "    collapsed_df.reset_index(inplace = True)\n",
    "    collapsed_df.rename(columns = {'Pseudo-ID': 'opm_n_emp', 'Adjusted Basic Pay': 'mean_abp'}, inplace = True)\n",
    "    \n",
    "    target_path = Path(binary_path).joinpath(f'opm_collapsed_{year}.feather')\n",
    "    collapsed_df.to_feather(target_path)\n",
    "\n",
    "    opm_collapsed_feather_path_dict[year] = str(target_path)"
   ]
  },
  {
   "cell_type": "code",
   "execution_count": 13,
   "metadata": {},
   "outputs": [],
   "source": [
    "# Save dictionaries for paths of binaries\n",
    "with open('../code_output/opm_collapsed_pre2014_feather_path_dict.json', 'w') as outfile:\n",
    "    json.dump(opm_collapsed_feather_path_dict, outfile, indent = 4)"
   ]
  },
  {
   "cell_type": "code",
   "execution_count": null,
   "metadata": {},
   "outputs": [],
   "source": []
  },
  {
   "cell_type": "code",
   "execution_count": null,
   "metadata": {},
   "outputs": [],
   "source": []
  }
 ],
 "metadata": {
  "interpreter": {
   "hash": "d17b7b52486b7ddd73814d01c6691018dc71175d95eb65a2b9cd66e1b85695ed"
  },
  "kernelspec": {
   "display_name": "Python 3.9.7 ('base')",
   "language": "python",
   "name": "python3"
  },
  "language_info": {
   "codemirror_mode": {
    "name": "ipython",
    "version": 3
   },
   "file_extension": ".py",
   "mimetype": "text/x-python",
   "name": "python",
   "nbconvert_exporter": "python",
   "pygments_lexer": "ipython3",
   "version": "3.9.12"
  },
  "orig_nbformat": 4
 },
 "nbformat": 4,
 "nbformat_minor": 2
}
