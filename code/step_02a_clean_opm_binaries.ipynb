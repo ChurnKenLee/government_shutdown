{
 "cells": [
  {
   "cell_type": "code",
   "execution_count": 63,
   "metadata": {},
   "outputs": [],
   "source": [
    "from pathlib import Path\n",
    "import pandas as pd\n",
    "import json\n",
    "from pandas.api.types import union_categoricals\n",
    "from itertools import islice"
   ]
  },
  {
   "cell_type": "code",
   "execution_count": 2,
   "metadata": {},
   "outputs": [],
   "source": [
    "# Load dicts of paths of binaries\n",
    "with open('opm_dynamic_feather_path_dict.json', 'r') as infile:\n",
    "    opm_dynamic_feather_path_dict = json.load(infile)\n",
    "\n",
    "with open('opm_status_feather_path_dict.json', 'r') as infile:\n",
    "    opm_status_feather_path_dict = json.load(infile)"
   ]
  },
  {
   "cell_type": "code",
   "execution_count": 3,
   "metadata": {},
   "outputs": [],
   "source": [
    "with open('opm_dynamic_cat_col_list.json') as infile:\n",
    "    opm_dynamic_cat_col_list = json.load(infile)"
   ]
  },
  {
   "cell_type": "code",
   "execution_count": 4,
   "metadata": {},
   "outputs": [],
   "source": [
    "with open('opm_status_cat_col_list.json') as infile:\n",
    "    opm_status_cat_col_list = json.load(infile)"
   ]
  },
  {
   "cell_type": "code",
   "execution_count": 5,
   "metadata": {},
   "outputs": [],
   "source": [
    "# Store categorical variable map for each categorical variable and year in nested dict\n",
    "opm_dynamic_cat_index_dict = {}\n",
    "opm_status_cat_index_dict = {}\n",
    "\n",
    "for col in opm_dynamic_cat_col_list:\n",
    "    opm_dynamic_cat_index_dict[col] = {}\n",
    "    for year, year_dict in opm_dynamic_feather_path_dict.items():\n",
    "        opm_dynamic_cat_index_dict[col][year] = {}\n",
    "\n",
    "for col in opm_status_cat_col_list:\n",
    "    opm_status_cat_index_dict[col] = {}\n",
    "    for year, year_dict in opm_status_feather_path_dict.items():\n",
    "        opm_status_cat_index_dict[col][year] = {}"
   ]
  },
  {
   "cell_type": "code",
   "execution_count": 6,
   "metadata": {},
   "outputs": [],
   "source": [
    "for year, qtr_dict in opm_dynamic_feather_path_dict.items():\n",
    "    for qtr, str_path in qtr_dict.items():\n",
    "        df = pd.read_feather(Path(str_path))\n",
    "\n",
    "        for col in opm_dynamic_cat_col_list:\n",
    "            cat_index = pd.CategoricalIndex(df[col])\n",
    "            opm_dynamic_cat_index_dict[col][year][qtr] = cat_index"
   ]
  },
  {
   "cell_type": "code",
   "execution_count": 7,
   "metadata": {},
   "outputs": [],
   "source": [
    "for year, qtr_dict in opm_status_feather_path_dict.items():\n",
    "    for qtr, str_path in qtr_dict.items():\n",
    "        df = pd.read_feather(Path(str_path))\n",
    "\n",
    "        for col in opm_status_cat_col_list:\n",
    "            cat_index = pd.CategoricalIndex(df[col])\n",
    "            opm_status_cat_index_dict[col][year][qtr] = cat_index"
   ]
  },
  {
   "cell_type": "code",
   "execution_count": 8,
   "metadata": {},
   "outputs": [],
   "source": [
    "# Find the union across years of each categorical variable, and store resulting union in dict\n",
    "opm_dynamic_uc_dict = {}\n",
    "for col, year_dict in opm_dynamic_cat_index_dict.items():\n",
    "    cat_index_list = []\n",
    "    for year, cat_index_dict in year_dict.items():\n",
    "        for qtr, cat_index in cat_index_dict.items():\n",
    "            cat_index_list.append(cat_index)\n",
    "    \n",
    "    opm_dynamic_uc_dict[col] = union_categoricals(cat_index_list)"
   ]
  },
  {
   "cell_type": "code",
   "execution_count": 9,
   "metadata": {},
   "outputs": [],
   "source": [
    "opm_status_uc_dict = {}\n",
    "for col, year_dict in opm_status_cat_index_dict.items():\n",
    "    cat_index_list = []\n",
    "    for year, cat_index_dict in year_dict.items():\n",
    "        for qtr, cat_index in cat_index_dict.items():\n",
    "            cat_index_list.append(cat_index)\n",
    "    \n",
    "    opm_status_uc_dict[col] = union_categoricals(cat_index_list)"
   ]
  },
  {
   "cell_type": "code",
   "execution_count": 10,
   "metadata": {},
   "outputs": [],
   "source": [
    "# Update categorical mapping for all binaries, to enable type retention when concatenating\n",
    "for year, qtr_dict in opm_dynamic_feather_path_dict.items():\n",
    "    for qtr, str_path in qtr_dict.items():\n",
    "        df = pd.read_feather(Path(str_path))\n",
    "\n",
    "        for col, uc in opm_dynamic_uc_dict.items():\n",
    "            df[col] = pd.Categorical(df[col], categories = uc.categories)\n",
    "\n",
    "        df.to_feather(Path(str_path))"
   ]
  },
  {
   "cell_type": "code",
   "execution_count": 11,
   "metadata": {},
   "outputs": [],
   "source": [
    "for year, qtr_dict in opm_status_feather_path_dict.items():\n",
    "    for qtr, str_path in qtr_dict.items():\n",
    "        df = pd.read_feather(Path(str_path))\n",
    "\n",
    "        for col, uc in opm_status_uc_dict.items():\n",
    "            df[col] = pd.Categorical(df[col], categories = uc.categories)\n",
    "\n",
    "        df.to_feather(Path(str_path))"
   ]
  },
  {
   "cell_type": "code",
   "execution_count": 12,
   "metadata": {},
   "outputs": [],
   "source": [
    "# Print out all categorical values\n",
    "for col, cats in opm_dynamic_uc_dict.items():\n",
    "    col = col.replace('/', '-')\n",
    "    with open(f'../output/dynamic_{col}_cats.txt', 'w') as outfile:\n",
    "        list = cats.categories.values.tolist()\n",
    "        list.sort()\n",
    "        for item in list:\n",
    "            outfile.write(item + '\\n')\n"
   ]
  },
  {
   "cell_type": "code",
   "execution_count": 13,
   "metadata": {},
   "outputs": [],
   "source": [
    "# Print out all categorical values\n",
    "for col, cats in opm_status_uc_dict.items():\n",
    "    col = col.replace('/', '-')\n",
    "    with open(f'../output/status_{col}_cats.txt', 'w') as outfile:\n",
    "        list = cats.categories.values.tolist()\n",
    "        list.sort()\n",
    "        for item in list:\n",
    "            outfile.write(item + '\\n')"
   ]
  },
  {
   "cell_type": "code",
   "execution_count": 61,
   "metadata": {},
   "outputs": [],
   "source": [
    "dynamic_df = pd.DataFrame()"
   ]
  },
  {
   "cell_type": "code",
   "execution_count": 64,
   "metadata": {},
   "outputs": [],
   "source": [
    "for year, qtr_dict in islice(opm_dynamic_feather_path_dict.items(), 3):\n",
    "    for qtr, str_path in qtr_dict.items():\n",
    "        df = pd.read_feather(Path(str_path))\n",
    "        df.rename(columns = {'Effective Date (year)': 'year', 'Effective Date (month)': 'month', 'Effective Date (day)': 'day'}, inplace = True)\n",
    "        df['effective_date'] = pd.to_datetime(df[['year', 'month', 'day']])\n",
    "        df = df[['Pseudo-ID', 'Employee Name', 'effective_date']]\n",
    "        dynamic_df = pd.concat([dynamic_df, df])"
   ]
  },
  {
   "cell_type": "code",
   "execution_count": 65,
   "metadata": {},
   "outputs": [],
   "source": [
    "status_df = pd.DataFrame()"
   ]
  },
  {
   "cell_type": "code",
   "execution_count": 68,
   "metadata": {},
   "outputs": [],
   "source": [
    "for year, qtr_dict in islice(opm_status_feather_path_dict.items(), 3):\n",
    "    for qtr, str_path in qtr_dict.items():\n",
    "        df = pd.read_feather(Path(str_path))\n",
    "        df.rename(columns = {'File Date (year)': 'year', 'File Date (month)': 'month', 'File Date (day)': 'day'}, inplace = True)\n",
    "        df['file_date'] = pd.to_datetime(df[['year', 'month', 'day']])\n",
    "        df = df[['Pseudo-ID', 'Employee Name', 'Education Level', 'file_date']]\n",
    "        status_df = pd.concat([status_df, df])"
   ]
  },
  {
   "cell_type": "code",
   "execution_count": 69,
   "metadata": {},
   "outputs": [
    {
     "data": {
      "text/html": [
       "<div>\n",
       "<style scoped>\n",
       "    .dataframe tbody tr th:only-of-type {\n",
       "        vertical-align: middle;\n",
       "    }\n",
       "\n",
       "    .dataframe tbody tr th {\n",
       "        vertical-align: top;\n",
       "    }\n",
       "\n",
       "    .dataframe thead th {\n",
       "        text-align: right;\n",
       "    }\n",
       "</style>\n",
       "<table border=\"1\" class=\"dataframe\">\n",
       "  <thead>\n",
       "    <tr style=\"text-align: right;\">\n",
       "      <th></th>\n",
       "      <th>Pseudo-ID</th>\n",
       "      <th>Employee Name</th>\n",
       "      <th>file_date</th>\n",
       "      <th>Education Level</th>\n",
       "    </tr>\n",
       "  </thead>\n",
       "  <tbody>\n",
       "    <tr>\n",
       "      <th>0</th>\n",
       "      <td>000148862</td>\n",
       "      <td>STUCKEY,JAMES E,</td>\n",
       "      <td>1973-09-30</td>\n",
       "      <td>NaN</td>\n",
       "    </tr>\n",
       "    <tr>\n",
       "      <th>1</th>\n",
       "      <td>000278418</td>\n",
       "      <td>PALMER BETTY M</td>\n",
       "      <td>1973-09-30</td>\n",
       "      <td>NaN</td>\n",
       "    </tr>\n",
       "    <tr>\n",
       "      <th>2</th>\n",
       "      <td>003141713</td>\n",
       "      <td>SHAW MARY J</td>\n",
       "      <td>1973-09-30</td>\n",
       "      <td>NaN</td>\n",
       "    </tr>\n",
       "    <tr>\n",
       "      <th>3</th>\n",
       "      <td>003733130</td>\n",
       "      <td>NAGI SAAD Z</td>\n",
       "      <td>1973-09-30</td>\n",
       "      <td>NaN</td>\n",
       "    </tr>\n",
       "    <tr>\n",
       "      <th>4</th>\n",
       "      <td>003882030</td>\n",
       "      <td>WOLF JAMES L</td>\n",
       "      <td>1973-09-30</td>\n",
       "      <td>NaN</td>\n",
       "    </tr>\n",
       "    <tr>\n",
       "      <th>...</th>\n",
       "      <td>...</td>\n",
       "      <td>...</td>\n",
       "      <td>...</td>\n",
       "      <td>...</td>\n",
       "    </tr>\n",
       "    <tr>\n",
       "      <th>1071824</th>\n",
       "      <td>009767227</td>\n",
       "      <td>CHARLICK,SUZANNE</td>\n",
       "      <td>1975-12-13</td>\n",
       "      <td>13</td>\n",
       "    </tr>\n",
       "    <tr>\n",
       "      <th>1071825</th>\n",
       "      <td>010153675</td>\n",
       "      <td>DE MARNE,MURIEL A</td>\n",
       "      <td>1975-12-13</td>\n",
       "      <td>**</td>\n",
       "    </tr>\n",
       "    <tr>\n",
       "      <th>1071826</th>\n",
       "      <td>010161407</td>\n",
       "      <td>ERICKSON,WILLIAM H</td>\n",
       "      <td>1975-12-13</td>\n",
       "      <td>04</td>\n",
       "    </tr>\n",
       "    <tr>\n",
       "      <th>1071827</th>\n",
       "      <td>010867612</td>\n",
       "      <td>WESTIN ALAN F</td>\n",
       "      <td>1975-12-13</td>\n",
       "      <td>04</td>\n",
       "    </tr>\n",
       "    <tr>\n",
       "      <th>1071828</th>\n",
       "      <td>010998104</td>\n",
       "      <td>FOOTE JOSEPH</td>\n",
       "      <td>1975-12-13</td>\n",
       "      <td>**</td>\n",
       "    </tr>\n",
       "  </tbody>\n",
       "</table>\n",
       "<p>20874566 rows × 4 columns</p>\n",
       "</div>"
      ],
      "text/plain": [
       "         Pseudo-ID       Employee Name  file_date Education Level\n",
       "0        000148862    STUCKEY,JAMES E, 1973-09-30             NaN\n",
       "1        000278418      PALMER BETTY M 1973-09-30             NaN\n",
       "2        003141713         SHAW MARY J 1973-09-30             NaN\n",
       "3        003733130         NAGI SAAD Z 1973-09-30             NaN\n",
       "4        003882030        WOLF JAMES L 1973-09-30             NaN\n",
       "...            ...                 ...        ...             ...\n",
       "1071824  009767227    CHARLICK,SUZANNE 1975-12-13              13\n",
       "1071825  010153675   DE MARNE,MURIEL A 1975-12-13              **\n",
       "1071826  010161407  ERICKSON,WILLIAM H 1975-12-13              04\n",
       "1071827  010867612       WESTIN ALAN F 1975-12-13              04\n",
       "1071828  010998104        FOOTE JOSEPH 1975-12-13              **\n",
       "\n",
       "[20874566 rows x 4 columns]"
      ]
     },
     "execution_count": 69,
     "metadata": {},
     "output_type": "execute_result"
    }
   ],
   "source": [
    "status_df"
   ]
  },
  {
   "cell_type": "code",
   "execution_count": 70,
   "metadata": {},
   "outputs": [
    {
     "data": {
      "text/html": [
       "<div>\n",
       "<style scoped>\n",
       "    .dataframe tbody tr th:only-of-type {\n",
       "        vertical-align: middle;\n",
       "    }\n",
       "\n",
       "    .dataframe tbody tr th {\n",
       "        vertical-align: top;\n",
       "    }\n",
       "\n",
       "    .dataframe thead th {\n",
       "        text-align: right;\n",
       "    }\n",
       "</style>\n",
       "<table border=\"1\" class=\"dataframe\">\n",
       "  <thead>\n",
       "    <tr style=\"text-align: right;\">\n",
       "      <th></th>\n",
       "      <th>Pseudo-ID</th>\n",
       "      <th>Employee Name</th>\n",
       "      <th>file_date</th>\n",
       "      <th>Education Level</th>\n",
       "    </tr>\n",
       "  </thead>\n",
       "  <tbody>\n",
       "    <tr>\n",
       "      <th>0</th>\n",
       "      <td>000148862</td>\n",
       "      <td>STUCKEY,JAMES E,</td>\n",
       "      <td>1973-09-30</td>\n",
       "      <td>NaN</td>\n",
       "    </tr>\n",
       "    <tr>\n",
       "      <th>1</th>\n",
       "      <td>000278418</td>\n",
       "      <td>PALMER BETTY M</td>\n",
       "      <td>1973-09-30</td>\n",
       "      <td>NaN</td>\n",
       "    </tr>\n",
       "    <tr>\n",
       "      <th>2</th>\n",
       "      <td>003141713</td>\n",
       "      <td>SHAW MARY J</td>\n",
       "      <td>1973-09-30</td>\n",
       "      <td>NaN</td>\n",
       "    </tr>\n",
       "    <tr>\n",
       "      <th>3</th>\n",
       "      <td>003733130</td>\n",
       "      <td>NAGI SAAD Z</td>\n",
       "      <td>1973-09-30</td>\n",
       "      <td>NaN</td>\n",
       "    </tr>\n",
       "    <tr>\n",
       "      <th>4</th>\n",
       "      <td>003882030</td>\n",
       "      <td>WOLF JAMES L</td>\n",
       "      <td>1973-09-30</td>\n",
       "      <td>NaN</td>\n",
       "    </tr>\n",
       "    <tr>\n",
       "      <th>...</th>\n",
       "      <td>...</td>\n",
       "      <td>...</td>\n",
       "      <td>...</td>\n",
       "      <td>...</td>\n",
       "    </tr>\n",
       "    <tr>\n",
       "      <th>1071760</th>\n",
       "      <td>000401463</td>\n",
       "      <td>NAME WITHHELD BY AGENCY</td>\n",
       "      <td>1975-12-13</td>\n",
       "      <td>**</td>\n",
       "    </tr>\n",
       "    <tr>\n",
       "      <th>1071767</th>\n",
       "      <td>003190889</td>\n",
       "      <td>MOSESSO,JOHN P.</td>\n",
       "      <td>1975-12-13</td>\n",
       "      <td>17</td>\n",
       "    </tr>\n",
       "    <tr>\n",
       "      <th>1071784</th>\n",
       "      <td>006501170</td>\n",
       "      <td>NAME WITHHELD BY AGENCY</td>\n",
       "      <td>1975-12-13</td>\n",
       "      <td>**</td>\n",
       "    </tr>\n",
       "    <tr>\n",
       "      <th>1071795</th>\n",
       "      <td>008884915</td>\n",
       "      <td>CARVER WILLIAM H JR</td>\n",
       "      <td>1975-12-13</td>\n",
       "      <td>**</td>\n",
       "    </tr>\n",
       "    <tr>\n",
       "      <th>1071821</th>\n",
       "      <td>008603115</td>\n",
       "      <td>CARR,JAMES G</td>\n",
       "      <td>1975-12-13</td>\n",
       "      <td>**</td>\n",
       "    </tr>\n",
       "  </tbody>\n",
       "</table>\n",
       "<p>3223854 rows × 4 columns</p>\n",
       "</div>"
      ],
      "text/plain": [
       "         Pseudo-ID            Employee Name  file_date Education Level\n",
       "0        000148862         STUCKEY,JAMES E, 1973-09-30             NaN\n",
       "1        000278418           PALMER BETTY M 1973-09-30             NaN\n",
       "2        003141713              SHAW MARY J 1973-09-30             NaN\n",
       "3        003733130              NAGI SAAD Z 1973-09-30             NaN\n",
       "4        003882030             WOLF JAMES L 1973-09-30             NaN\n",
       "...            ...                      ...        ...             ...\n",
       "1071760  000401463  NAME WITHHELD BY AGENCY 1975-12-13              **\n",
       "1071767  003190889          MOSESSO,JOHN P. 1975-12-13              17\n",
       "1071784  006501170  NAME WITHHELD BY AGENCY 1975-12-13              **\n",
       "1071795  008884915      CARVER WILLIAM H JR 1975-12-13              **\n",
       "1071821  008603115             CARR,JAMES G 1975-12-13              **\n",
       "\n",
       "[3223854 rows x 4 columns]"
      ]
     },
     "execution_count": 70,
     "metadata": {},
     "output_type": "execute_result"
    }
   ],
   "source": [
    "status_df.drop_duplicates(subset = ['Pseudo-ID', 'Education Level'])"
   ]
  },
  {
   "cell_type": "code",
   "execution_count": null,
   "metadata": {},
   "outputs": [],
   "source": []
  }
 ],
 "metadata": {
  "interpreter": {
   "hash": "d17b7b52486b7ddd73814d01c6691018dc71175d95eb65a2b9cd66e1b85695ed"
  },
  "kernelspec": {
   "display_name": "Python 3.9.7 ('base')",
   "language": "python",
   "name": "python3"
  },
  "language_info": {
   "codemirror_mode": {
    "name": "ipython",
    "version": 3
   },
   "file_extension": ".py",
   "mimetype": "text/x-python",
   "name": "python",
   "nbconvert_exporter": "python",
   "pygments_lexer": "ipython3",
   "version": "3.9.7"
  },
  "orig_nbformat": 4
 },
 "nbformat": 4,
 "nbformat_minor": 2
}
