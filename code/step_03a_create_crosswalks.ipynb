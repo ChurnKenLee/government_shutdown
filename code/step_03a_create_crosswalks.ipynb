{
 "cells": [
  {
   "cell_type": "code",
   "execution_count": 50,
   "metadata": {},
   "outputs": [],
   "source": [
    "from pathlib import Path\n",
    "import pandas as pd\n",
    "import json\n",
    "from itertools import islice"
   ]
  },
  {
   "cell_type": "markdown",
   "metadata": {},
   "source": [
    "# OPM series to SOC crosswalk"
   ]
  },
  {
   "cell_type": "code",
   "execution_count": 51,
   "metadata": {},
   "outputs": [],
   "source": [
    "occ_rename_dict = {\n",
    "    'OPM SERIES NUMBER (December 2018)': 'opm_occ_code',\n",
    "    'OPM SERIES TITLE\\xa0\\n(December 2018)': 'opm_occ_title',\n",
    "    '2018 \\nSOC CODE': '2018_soc_code',\n",
    "    '2014-2018 EEO TABULATION (CENSUS) CODE': 'census_occ_code',\n",
    "    '2014-2018 EEO TABULATION (CENSUS) OCCUPATION TITLE': 'census_occ_title'\n",
    "}"
   ]
  },
  {
   "cell_type": "code",
   "execution_count": 52,
   "metadata": {},
   "outputs": [],
   "source": [
    "# Load OPM occupation code to SOC code crosswalk\n",
    "opm_occ_df = pd.read_excel('../raw_data/MD715-Census Occupation Crosswalk 2022Feb23.xlsx', header = 2, dtype = 'str')\n",
    "opm_occ_df.rename(columns = occ_rename_dict, inplace = True)\n",
    "opm_occ_df = opm_occ_df[list(occ_rename_dict.values())]\n",
    "\n",
    "# Remove trailing #, which indicates deviations from documentation of the 2014-2018 EEO Tabulation\n",
    "for col in opm_occ_df.columns:\n",
    "    opm_occ_df[col] = opm_occ_df[col].str.replace('#', '')"
   ]
  },
  {
   "cell_type": "code",
   "execution_count": 53,
   "metadata": {},
   "outputs": [],
   "source": [
    "soc_1018_xwalk_df = pd.read_excel('../raw_data/soc_2010_to_2018_crosswalk.xlsx', header = 8)\n",
    "soc_1018_xwalk_df.rename(columns = {'2010 SOC Code': '2010_soc_code', '2010 SOC Title':'2010_soc_title', '2018 SOC Code': '2018_soc_code', '2018 SOC Title':'2018_soc_title'}, inplace = True)\n",
    "soc_1018_xwalk_df.reset_index(inplace = True, drop = True)\n",
    "soc_1018_xwalk_df.to_feather('../code_output/soc_1018_xwalk.feather')"
   ]
  },
  {
   "cell_type": "code",
   "execution_count": 54,
   "metadata": {},
   "outputs": [],
   "source": [
    "soc_1000_xwalk_df = pd.read_excel('../raw_data/soc_2000_to_2010_crosswalk.xls', header = 6)\n",
    "soc_1000_xwalk_df.rename(columns = {'2000 SOC code': '2000_soc_code', '2000 SOC title':'2000_soc_title', '2010 SOC code': '2010_soc_code', '2010 SOC title':'2010_soc_title'}, inplace = True)\n",
    "soc_1000_xwalk_df.dropna(inplace = True)\n",
    "soc_1000_xwalk_df.reset_index(inplace = True, drop = True)\n",
    "soc_1000_xwalk_df.to_feather('../code_output/soc_1000_xwalk.feather')"
   ]
  },
  {
   "cell_type": "markdown",
   "metadata": {},
   "source": [
    "# Duty station to MSA crosswalk"
   ]
  },
  {
   "cell_type": "code",
   "execution_count": 55,
   "metadata": {},
   "outputs": [],
   "source": [
    "dutystation_rename_dict = {\n",
    "    'Code': 'duty_station_code',\n",
    "    'CBSA': 'cbsa',\n",
    "    'CSA': 'csa',\n",
    "    'City': 'city',\n",
    "    'County': 'county',\n",
    "    'State': 'state',\n",
    "    'Country': 'country'\n",
    "}"
   ]
  },
  {
   "cell_type": "code",
   "execution_count": 56,
   "metadata": {},
   "outputs": [],
   "source": [
    "# Load duty station to county crosswalk file\n",
    "opm_dutystation_df = pd.read_excel('../raw_data/opm_dutystation.xlsx', dtype = 'str')\n",
    "opm_dutystation_df.rename(columns = dutystation_rename_dict, inplace = True)\n",
    "opm_dutystation_df = opm_dutystation_df[list(dutystation_rename_dict.values())]\n",
    "\n",
    "# Pad duty station code to 9 characters with 0s on the left\n",
    "opm_dutystation_df['duty_station_code'] = opm_dutystation_df['duty_station_code'].str.pad(9, side = 'left', fillchar = '0')\n",
    "\n",
    "# Remove duty stations not in a county\n",
    "opm_dutystation_df = opm_dutystation_df[~opm_dutystation_df['county'].isna()]\n",
    "opm_dutystation_df['msa_code'] = pd.Series(dtype = 'str') # Add column for MSA code"
   ]
  },
  {
   "cell_type": "code",
   "execution_count": 57,
   "metadata": {},
   "outputs": [],
   "source": [
    "# Load QCEW county-MSA crosswalk\n",
    "qcew_df = pd.read_excel('../raw_data/qcew-county-msa-csa-crosswalk-xlsx.xlsx')\n",
    "#qcew_df = qcew_df[~qcew_df['MSA Code'].isna()]\n",
    "qcew_df.loc[qcew_df['MSA Code'].isna(), 'MSA Code'] = 'matched'\n",
    "\n",
    "# Split conty title into county and state columns, capitalized to merge with OPM dutystation code file\n",
    "qcew_df['county'] = qcew_df['County Title'].str.split(', ').str[0]\n",
    "qcew_df['state'] = qcew_df['County Title'].str.split(', ').str[1]\n",
    "\n",
    "qcew_df['state'] = qcew_df['state'].str.upper()\n",
    "qcew_df.loc[qcew_df['state'].isna(), 'state'] = 'DISTRICT OF COLUMBIA' # DC has blank state\n",
    "qcew_df.loc[qcew_df['state'] == 'AK', 'state'] = 'ALASKA' # One entry has AK instead of Alaska\n",
    "\n",
    "qcew_df['county'] = qcew_df['county'].str.upper()"
   ]
  },
  {
   "cell_type": "code",
   "execution_count": 58,
   "metadata": {},
   "outputs": [],
   "source": [
    "# List of states that are in both QCEW and OPM (50 states + DC)\n",
    "qcew_state_list = list(qcew_df['state'].unique())\n",
    "opm_dutystation_state_list = list(opm_dutystation_df['state'].unique())\n",
    "state_list = list(set(qcew_state_list) & set(opm_dutystation_state_list))"
   ]
  },
  {
   "cell_type": "code",
   "execution_count": 59,
   "metadata": {},
   "outputs": [],
   "source": [
    "# Iterate over states and counties to add MSA code to OPM dutystation df\n",
    "for state_name in state_list:\n",
    "    county_list = list(opm_dutystation_df['county'][opm_dutystation_df['state'] == state_name].unique())\n",
    "    for county_name in county_list:\n",
    "\n",
    "        qcew_county_name = county_name.replace('SAINT ', 'ST. ')\n",
    "        qcew_county_name = qcew_county_name.replace('DE KALB', 'DEKALB')\n",
    "        qcew_county_name = qcew_county_name.replace('DU PAGE', 'DUPAGE')\n",
    "        qcew_county_name = qcew_county_name.replace('LA PORTE', 'LAPORTE')\n",
    "        qcew_county_name = qcew_county_name.replace('DONA ANA', 'DOÑA ANA')\n",
    "        qcew_county_name = qcew_county_name.replace('LA MOURE', 'LAMOURE')\n",
    "        qcew_county_name = qcew_county_name.replace('SPAULDING', 'SPALDING') # Typo in OPM county name\n",
    "        qcew_county_name = qcew_county_name.replace('O BRIEN', 'OBRIEN')\n",
    "        qcew_county_name = qcew_county_name.replace('STE GENEVIEVE', 'STE. GENEVIEVE')\n",
    "        # La Salle has a space in Texas, but not in other states\n",
    "        if state_name != 'TEXAS':\n",
    "            qcew_county_name = qcew_county_name.replace('LA SALLE', 'LASALLE')\n",
    "        # De Soto has a space in Louisiana, but not in other states\n",
    "        if state_name != 'LOUISIANA':\n",
    "            qcew_county_name = qcew_county_name.replace('DE SOTO', 'DESOTO')\n",
    "\n",
    "        try:\n",
    "            msa_code = qcew_df[(qcew_df['state'] == state_name) & (qcew_df['county'].str.contains(qcew_county_name))]['MSA Code'].iloc[0]\n",
    "        except:\n",
    "            continue\n",
    "\n",
    "        opm_dutystation_df.loc[(opm_dutystation_df['state'] == state_name) & (opm_dutystation_df['county'] == county_name), 'msa_code'] = msa_code # Assign MSA code"
   ]
  },
  {
   "cell_type": "code",
   "execution_count": 60,
   "metadata": {},
   "outputs": [
    {
     "data": {
      "text/plain": [
       "0"
      ]
     },
     "execution_count": 60,
     "metadata": {},
     "output_type": "execute_result"
    }
   ],
   "source": [
    "# All counties matched, with counties outside MSAs assigned an MSA code of 'matched'\n",
    "sum(opm_dutystation_df['msa_code'].isna())"
   ]
  },
  {
   "cell_type": "code",
   "execution_count": 61,
   "metadata": {},
   "outputs": [],
   "source": [
    "opm_dutystation_df.reset_index(inplace = True, drop = True)\n",
    "opm_dutystation_df.to_feather('../code_output/dutystation_msa_xwalk.feather')"
   ]
  },
  {
   "cell_type": "code",
   "execution_count": null,
   "metadata": {},
   "outputs": [],
   "source": []
  },
  {
   "cell_type": "code",
   "execution_count": null,
   "metadata": {},
   "outputs": [],
   "source": []
  },
  {
   "cell_type": "markdown",
   "metadata": {},
   "source": [
    "occ_1810_xwalk_df = pd.read_excel('../raw_data/2018-occupation-code-list-and-crosswalk.xlsx', sheet_name = '2010 to 2018 Crosswalk ', header = 3, skipfooter = 6, dtype = str)\n",
    "\n",
    "# New 2018 SOC code appear as string within parentheses of '2018 Census Title ' column\n",
    "occ_1810_xwalk_df['new_2018_soc_code'] = occ_1810_xwalk_df['2018 Census Title '].str.extract('.*\\((.*)\\).*')\n",
    "occ_1810_xwalk_df.loc[occ_1810_xwalk_df['2018 SOC Code'].isna(), '2018 SOC Code'] = occ_1810_xwalk_df['new_2018_soc_code']\n",
    "\n",
    "# Perform forward fill\n",
    "occ_1810_xwalk_df['2010 SOC code'] = occ_1810_xwalk_df['2010 SOC code'].ffill()\n",
    "occ_1810_xwalk_df['2010 Census Title \\n'] = occ_1810_xwalk_df['2010 Census Title \\n'].ffill()\n",
    "\n",
    "occ_1810_xwalk_df = occ_1810_xwalk_df[['2010 SOC code', '2018 SOC Code']]\n",
    "\n",
    "# Drop rows with no or redundant 2018 SOC Code\n",
    "occ_1810_xwalk_df = occ_1810_xwalk_df.dropna()\n",
    "occ_1810_xwalk_df = occ_1810_xwalk_df[occ_1810_xwalk_df['2018 SOC Code'] != 'none']\n",
    "occ_1810_xwalk_df.drop_duplicates(subset = ['2018 SOC Code'])\n",
    "\n",
    "occ_1810_xwalk_df.rename(columns = {'2010 SOC code': '2010_soc_code', '2018 SOC Code': '2018_soc_code'}, inplace = True)\n",
    "\n",
    "occ_1810_xwalk_df"
   ]
  }
 ],
 "metadata": {
  "interpreter": {
   "hash": "d17b7b52486b7ddd73814d01c6691018dc71175d95eb65a2b9cd66e1b85695ed"
  },
  "kernelspec": {
   "display_name": "Python 3.9.7 ('base')",
   "language": "python",
   "name": "python3"
  },
  "language_info": {
   "codemirror_mode": {
    "name": "ipython",
    "version": 3
   },
   "file_extension": ".py",
   "mimetype": "text/x-python",
   "name": "python",
   "nbconvert_exporter": "python",
   "pygments_lexer": "ipython3",
   "version": "3.9.12"
  },
  "orig_nbformat": 4
 },
 "nbformat": 4,
 "nbformat_minor": 2
}
