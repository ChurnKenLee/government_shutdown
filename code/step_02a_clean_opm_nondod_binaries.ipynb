{
 "cells": [
  {
   "cell_type": "code",
   "execution_count": 63,
   "metadata": {},
   "outputs": [],
   "source": [
    "from pathlib import Path\n",
    "import pandas as pd\n",
    "import json\n",
    "from pandas.api.types import union_categoricals\n",
    "from itertools import islice"
   ]
  },
  {
   "cell_type": "code",
   "execution_count": 2,
   "metadata": {},
   "outputs": [],
   "source": [
    "# Load dicts of paths of binaries\n",
    "with open('opm_dynamic_feather_path_dict.json', 'r') as infile:\n",
    "    opm_dynamic_feather_path_dict = json.load(infile)\n",
    "\n",
    "with open('opm_status_feather_path_dict.json', 'r') as infile:\n",
    "    opm_status_feather_path_dict = json.load(infile)"
   ]
  },
  {
   "cell_type": "code",
   "execution_count": 3,
   "metadata": {},
   "outputs": [],
   "source": [
    "with open('opm_dynamic_cat_col_list.json') as infile:\n",
    "    opm_dynamic_cat_col_list = json.load(infile)"
   ]
  },
  {
   "cell_type": "code",
   "execution_count": 4,
   "metadata": {},
   "outputs": [],
   "source": [
    "with open('opm_status_cat_col_list.json') as infile:\n",
    "    opm_status_cat_col_list = json.load(infile)"
   ]
  },
  {
   "cell_type": "code",
   "execution_count": 5,
   "metadata": {},
   "outputs": [],
   "source": [
    "# Store categorical variable map for each categorical variable and year in nested dict\n",
    "opm_dynamic_cat_index_dict = {}\n",
    "opm_status_cat_index_dict = {}\n",
    "\n",
    "for col in opm_dynamic_cat_col_list:\n",
    "    opm_dynamic_cat_index_dict[col] = {}\n",
    "    for year, year_dict in opm_dynamic_feather_path_dict.items():\n",
    "        opm_dynamic_cat_index_dict[col][year] = {}\n",
    "\n",
    "for col in opm_status_cat_col_list:\n",
    "    opm_status_cat_index_dict[col] = {}\n",
    "    for year, year_dict in opm_status_feather_path_dict.items():\n",
    "        opm_status_cat_index_dict[col][year] = {}"
   ]
  },
  {
   "cell_type": "code",
   "execution_count": 6,
   "metadata": {},
   "outputs": [],
   "source": [
    "for year, qtr_dict in opm_dynamic_feather_path_dict.items():\n",
    "    for qtr, str_path in qtr_dict.items():\n",
    "        df = pd.read_feather(Path(str_path))\n",
    "\n",
    "        for col in opm_dynamic_cat_col_list:\n",
    "            cat_index = pd.CategoricalIndex(df[col])\n",
    "            opm_dynamic_cat_index_dict[col][year][qtr] = cat_index"
   ]
  },
  {
   "cell_type": "code",
   "execution_count": 7,
   "metadata": {},
   "outputs": [],
   "source": [
    "for year, qtr_dict in opm_status_feather_path_dict.items():\n",
    "    for qtr, str_path in qtr_dict.items():\n",
    "        df = pd.read_feather(Path(str_path))\n",
    "\n",
    "        for col in opm_status_cat_col_list:\n",
    "            cat_index = pd.CategoricalIndex(df[col])\n",
    "            opm_status_cat_index_dict[col][year][qtr] = cat_index"
   ]
  },
  {
   "cell_type": "code",
   "execution_count": 8,
   "metadata": {},
   "outputs": [],
   "source": [
    "# Find the union across years of each categorical variable, and store resulting union in dict\n",
    "opm_dynamic_uc_dict = {}\n",
    "for col, year_dict in opm_dynamic_cat_index_dict.items():\n",
    "    cat_index_list = []\n",
    "    for year, cat_index_dict in year_dict.items():\n",
    "        for qtr, cat_index in cat_index_dict.items():\n",
    "            cat_index_list.append(cat_index)\n",
    "    \n",
    "    opm_dynamic_uc_dict[col] = union_categoricals(cat_index_list)"
   ]
  },
  {
   "cell_type": "code",
   "execution_count": 9,
   "metadata": {},
   "outputs": [],
   "source": [
    "opm_status_uc_dict = {}\n",
    "for col, year_dict in opm_status_cat_index_dict.items():\n",
    "    cat_index_list = []\n",
    "    for year, cat_index_dict in year_dict.items():\n",
    "        for qtr, cat_index in cat_index_dict.items():\n",
    "            cat_index_list.append(cat_index)\n",
    "    \n",
    "    opm_status_uc_dict[col] = union_categoricals(cat_index_list)"
   ]
  },
  {
   "cell_type": "code",
   "execution_count": 10,
   "metadata": {},
   "outputs": [],
   "source": [
    "# Update categorical mapping for all binaries, to enable type retention when concatenating\n",
    "for year, qtr_dict in opm_dynamic_feather_path_dict.items():\n",
    "    for qtr, str_path in qtr_dict.items():\n",
    "        df = pd.read_feather(Path(str_path))\n",
    "\n",
    "        for col, uc in opm_dynamic_uc_dict.items():\n",
    "            df[col] = pd.Categorical(df[col], categories = uc.categories)\n",
    "\n",
    "        df.to_feather(Path(str_path))"
   ]
  },
  {
   "cell_type": "code",
   "execution_count": 11,
   "metadata": {},
   "outputs": [],
   "source": [
    "for year, qtr_dict in opm_status_feather_path_dict.items():\n",
    "    for qtr, str_path in qtr_dict.items():\n",
    "        df = pd.read_feather(Path(str_path))\n",
    "\n",
    "        for col, uc in opm_status_uc_dict.items():\n",
    "            df[col] = pd.Categorical(df[col], categories = uc.categories)\n",
    "\n",
    "        df.to_feather(Path(str_path))"
   ]
  },
  {
   "cell_type": "code",
   "execution_count": 12,
   "metadata": {},
   "outputs": [],
   "source": [
    "# Print out all categorical values\n",
    "for col, cats in opm_dynamic_uc_dict.items():\n",
    "    col = col.replace('/', '-')\n",
    "    with open(f'../output/dynamic_{col}_cats.txt', 'w') as outfile:\n",
    "        list = cats.categories.values.tolist()\n",
    "        list.sort()\n",
    "        for item in list:\n",
    "            outfile.write(item + '\\n')"
   ]
  },
  {
   "cell_type": "code",
   "execution_count": 13,
   "metadata": {},
   "outputs": [],
   "source": [
    "# Print out all categorical values\n",
    "for col, cats in opm_status_uc_dict.items():\n",
    "    col = col.replace('/', '-')\n",
    "    with open(f'../output/status_{col}_cats.txt', 'w') as outfile:\n",
    "        list = cats.categories.values.tolist()\n",
    "        list.sort()\n",
    "        for item in list:\n",
    "            outfile.write(item + '\\n')"
   ]
  },
  {
   "cell_type": "code",
   "execution_count": null,
   "metadata": {},
   "outputs": [],
   "source": []
  },
  {
   "cell_type": "code",
   "execution_count": null,
   "metadata": {},
   "outputs": [],
   "source": []
  }
 ],
 "metadata": {
  "interpreter": {
   "hash": "d17b7b52486b7ddd73814d01c6691018dc71175d95eb65a2b9cd66e1b85695ed"
  },
  "kernelspec": {
   "display_name": "Python 3.9.7 ('base')",
   "language": "python",
   "name": "python3"
  },
  "language_info": {
   "codemirror_mode": {
    "name": "ipython",
    "version": 3
   },
   "file_extension": ".py",
   "mimetype": "text/x-python",
   "name": "python",
   "nbconvert_exporter": "python",
   "pygments_lexer": "ipython3",
   "version": "3.9.7"
  },
  "orig_nbformat": 4
 },
 "nbformat": 4,
 "nbformat_minor": 2
}
