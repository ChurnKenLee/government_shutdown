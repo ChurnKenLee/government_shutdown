{
 "cells": [
  {
   "cell_type": "code",
   "execution_count": 11,
   "id": "2e2df5f0",
   "metadata": {},
   "outputs": [],
   "source": [
    "import pandas as pd\n",
    "from collections import OrderedDict\n",
    "import os\n",
    "import statsmodels"
   ]
  },
  {
   "cell_type": "code",
   "execution_count": 12,
   "id": "f15b194f",
   "metadata": {},
   "outputs": [],
   "source": [
    "opm_dynamic_dir = os.path.join('..', 'rawdata', 'opm-federal-employment-data', 'data', '1973-09-to-2014-06', 'non-dod', 'dynamic')\n",
    "opm_status_dir = os.path.join('..', 'rawdata', 'opm-federal-employment-data', 'data', '1973-09-to-2014-06', 'non-dod', 'status')"
   ]
  },
  {
   "cell_type": "code",
   "execution_count": 13,
   "id": "a957a471",
   "metadata": {},
   "outputs": [],
   "source": [
    "opm_status_fwf_columns = OrderedDict([\n",
    "    ('Pseudo-ID', (0, 9)),\n",
    "    ('Employee Name', (9, 32)),\n",
    "    ('File Date (yyyymmdd)', (32, 40)),\n",
    "    ('Agency/Subelement', (40, 44)),\n",
    "    ('Duty Station', (44, 53)),\n",
    "    ('Age Range', (53, 59)),\n",
    "    ('Education Level', (59, 61)),\n",
    "    ('Pay Plan', (61, 63)),\n",
    "    ('Grade', (63, 65)),\n",
    "    ('LOS Level', (65, 71)),\n",
    "    ('Occupation', (71, 75)),\n",
    "    ('Occupational Category (PATCO)', (75, 76)),\n",
    "    ('Adjusted Basic Pay', (76, 82)),\n",
    "    ('Supervisory Status', (82, 83)),\n",
    "    ('Type of Appointment', (83, 85)),\n",
    "    ('Work Schedule', (85, 86)),\n",
    "    ('NSFTP Indicator', (86, 87))\n",
    "])"
   ]
  },
  {
   "cell_type": "code",
   "execution_count": 14,
   "id": "07cd5fbf",
   "metadata": {},
   "outputs": [],
   "source": [
    "opm_dynamic_fwf_columns = OrderedDict([\n",
    "    ('Pseudo-ID', (0, 9)),\n",
    "    ('Employee Name', (9, 32)),\n",
    "    ('Agency/Subelement', (32, 36)),\n",
    "    ('Accession/Separation Indicator', (36, 38)),\n",
    "    ('Effective Date', (38, 46)),\n",
    "    ('Age', (46, 52)),\n",
    "    ('Pay Plan', (52, 54)),\n",
    "    ('Grade', (54, 56)),\n",
    "    ('LOS Level', (56, 62)),\n",
    "    ('Duty Station', (62, 71)),\n",
    "    ('Occupation', (71, 75)),\n",
    "    ('Occupational Cateogy (PATCO)', (75, 76)),\n",
    "    ('Adjusted Basic Pay', (76, 82)),\n",
    "    ('Type of Appointment', (82, 84)),\n",
    "    ('Work Schedule', (84, 85))\n",
    "])"
   ]
  },
  {
   "cell_type": "code",
   "execution_count": 15,
   "id": "cfd98052",
   "metadata": {},
   "outputs": [],
   "source": [
    "start_date = '1982-03'\n",
    "end_date = '1982-06'"
   ]
  },
  {
   "cell_type": "code",
   "execution_count": 16,
   "id": "fa8a5e86",
   "metadata": {},
   "outputs": [],
   "source": [
    "def read_opm_dynamic_fwf(start_date, end_date, path, fwf_dict):\n",
    "    start_date = pd.to_datetime(start_date)\n",
    "    end_date = pd.to_datetime(end_date)\n",
    "\n",
    "    # Create list of files to load based on date ranges selected\n",
    "    files_to_load = []\n",
    "    for file in os.listdir(opm_dynamic_dir):\n",
    "        file_date = pd.to_datetime(file[0:7])\n",
    "        if start_date <= file_date <= end_date:\n",
    "            files_to_load.append(file)\n",
    "\n",
    "    files_to_load.sort(key = lambda x: pd.to_datetime(x[0:7])) # Sort list of files to load by date\n",
    "\n",
    "    # Load files in list into dataframe\n",
    "    df = pd.DataFrame()\n",
    "    for file in files_to_load:\n",
    "        df = df.append(pd.read_fwf(os.path.join(opm_dynamic_dir, file), colspecs = list(opm_status_fwf_columns.values()), names = list(opm_status_fwf_columns.keys())))\n",
    "\n",
    "    return df"
   ]
  },
  {
   "cell_type": "code",
   "execution_count": null,
   "id": "8112c2b2",
   "metadata": {},
   "outputs": [],
   "source": []
  }
 ],
 "metadata": {
  "kernelspec": {
   "display_name": "Python 3 (ipykernel)",
   "language": "python",
   "name": "python3"
  },
  "language_info": {
   "codemirror_mode": {
    "name": "ipython",
    "version": 3
   },
   "file_extension": ".py",
   "mimetype": "text/x-python",
   "name": "python",
   "nbconvert_exporter": "python",
   "pygments_lexer": "ipython3",
   "version": "3.9.7"
  }
 },
 "nbformat": 4,
 "nbformat_minor": 5
}
