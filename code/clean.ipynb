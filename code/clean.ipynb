{
 "cells": [
  {
   "cell_type": "code",
   "execution_count": 99,
   "id": "2e2df5f0",
   "metadata": {},
   "outputs": [],
   "source": [
    "import pandas as pd\n",
    "from collections import OrderedDict\n",
    "import os"
   ]
  },
  {
   "cell_type": "code",
   "execution_count": 100,
   "id": "f15b194f",
   "metadata": {},
   "outputs": [],
   "source": [
    "opm_dynamic_dir = os.path.join('..', 'rawdata', 'opm-federal-employment-data', 'data', '1973-09-to-2014-06', 'non-dod', 'dynamic')\n",
    "opm_status_dir = os.path.join('..', 'rawdata', 'opm-federal-employment-data', 'data', '1973-09-to-2014-06', 'non-dod', 'status')"
   ]
  },
  {
   "cell_type": "code",
   "execution_count": 101,
   "id": "07cd5fbf",
   "metadata": {},
   "outputs": [],
   "source": [
    "# Define the dict for reading OPM dynamic files\n",
    "opm_dynamic_fwf_dict = OrderedDict([\n",
    "    ('Pseudo-ID', (0, 9)),\n",
    "    ('Employee Name', (9, 32)),\n",
    "    ('Agency/Subelement', (32, 36)),\n",
    "    ('Accession/Separation Indicator', (36, 38)),\n",
    "    ('Effective Date', (38, 46)),\n",
    "    ('Age', (46, 52)),\n",
    "    ('Pay Plan', (52, 54)),\n",
    "    ('Grade', (54, 56)),\n",
    "    ('LOS Level', (56, 62)),\n",
    "    ('Duty Station', (62, 71)),\n",
    "    ('Occupation', (71, 75)),\n",
    "    ('Occupational Cateogy (PATCO)', (75, 76)),\n",
    "    ('Adjusted Basic Pay', (76, 82)),\n",
    "    ('Type of Appointment', (82, 84)),\n",
    "    ('Work Schedule', (84, 85))\n",
    "])"
   ]
  },
  {
   "cell_type": "code",
   "execution_count": 102,
   "id": "a957a471",
   "metadata": {},
   "outputs": [],
   "source": [
    "# Define the dict for reading OPM status files\n",
    "opm_status_fwf_dict = OrderedDict([\n",
    "    ('Pseudo-ID', (0, 9)),\n",
    "    ('Employee Name', (9, 32)),\n",
    "    ('File Date (yyyymmdd)', (32, 40)),\n",
    "    ('Agency/Subelement', (40, 44)),\n",
    "    ('Duty Station', (44, 53)),\n",
    "    ('Age Range', (53, 59)),\n",
    "    ('Education Level', (59, 61)),\n",
    "    ('Pay Plan', (61, 63)),\n",
    "    ('Grade', (63, 65)),\n",
    "    ('LOS Level', (65, 71)),\n",
    "    ('Occupation', (71, 75)),\n",
    "    ('Occupational Category (PATCO)', (75, 76)),\n",
    "    ('Adjusted Basic Pay', (76, 82)),\n",
    "    ('Supervisory Status', (82, 83)),\n",
    "    ('Type of Appointment', (83, 85)),\n",
    "    ('Work Schedule', (85, 86)),\n",
    "    ('NSFTP Indicator', (86, 87))\n",
    "])"
   ]
  },
  {
   "cell_type": "code",
   "execution_count": 103,
   "id": "1d0e4244",
   "metadata": {},
   "outputs": [],
   "source": [
    "# Define functions that return a dict of files in the status or dynamic directory, indexed by year and quarter\n",
    "def produce_opm_dynamic_path_dict(input_path):\n",
    "    output_dict = {}\n",
    "    for file in os.listdir(input_path):\n",
    "        file_date = pd.to_datetime(file[0:7])\n",
    "        year = file_date.year\n",
    "        quarter = file_date.quarter\n",
    "        output_dict[(year, quarter)] = os.path.join(input_path, file)\n",
    "\n",
    "    return output_dict\n",
    "\n",
    "def produce_opm_status_path_dict(input_path):\n",
    "    output_dict = {}\n",
    "    for file in os.listdir(input_path):\n",
    "        file_date = pd.to_datetime('-'.join(file[15:22].split('_')))\n",
    "        year = file_date.year\n",
    "        quarter = file_date.quarter\n",
    "        output_dict[(year, quarter)] = os.path.join(input_path, file)\n",
    "\n",
    "    return output_dict"
   ]
  },
  {
   "cell_type": "code",
   "execution_count": 104,
   "id": "a76fac34",
   "metadata": {},
   "outputs": [],
   "source": [
    "# Define function that imports files into dict within a certain timeframe\n",
    "def produce_opm_df_dict(opm_path_dict, opm_fwf_dict, start_year, start_qtr, end_year, end_qtr):\n",
    "    output_df_dict = {}\n",
    "    for year in range(start_year, end_year + 1):\n",
    "        for qtr in range(1, 5):\n",
    "            if (year == start_year) and (qtr < start_qtr):\n",
    "                continue\n",
    "            if (year == end_year) and (qtr > end_qtr):\n",
    "                continue\n",
    "\n",
    "            output_df_dict[(year, qtr)] = pd.read_fwf(opm_path_dict[(year, qtr)], colspecs = list(opm_fwf_dict.values()), names = list(opm_fwf_dict.keys()))\n",
    "\n",
    "    return output_df_dict"
   ]
  },
  {
   "cell_type": "code",
   "execution_count": 105,
   "id": "cfd98052",
   "metadata": {},
   "outputs": [],
   "source": [
    "# years and quarters we want to load (inclusive)\n",
    "start_year = 1982\n",
    "start_qtr = 1\n",
    "end_year = 1985\n",
    "end_qtr = 1"
   ]
  },
  {
   "cell_type": "code",
   "execution_count": 106,
   "id": "3bfeb434",
   "metadata": {},
   "outputs": [],
   "source": [
    "# Create dict of paths of files\n",
    "opm_dynamic_path_dict = produce_opm_dynamic_path_dict(opm_dynamic_dir)\n",
    "opm_status_path_dict = produce_opm_status_path_dict(opm_status_dir)"
   ]
  },
  {
   "cell_type": "code",
   "execution_count": 107,
   "id": "d307ef93",
   "metadata": {},
   "outputs": [
    {
     "name": "stdout",
     "output_type": "stream",
     "text": [
      "Loading year 1982, quarter 1.\n",
      "Loading year 1982, quarter 2.\n",
      "Loading year 1982, quarter 3.\n",
      "Loading year 1982, quarter 4.\n",
      "Loading year 1983, quarter 1.\n",
      "Loading year 1983, quarter 2.\n",
      "Loading year 1983, quarter 3.\n",
      "Loading year 1983, quarter 4.\n",
      "Loading year 1984, quarter 1.\n",
      "Loading year 1984, quarter 2.\n",
      "Loading year 1984, quarter 3.\n",
      "Loading year 1984, quarter 4.\n",
      "Loading year 1985, quarter 1.\n"
     ]
    }
   ],
   "source": [
    "opm_educ_df_dict = {}\n",
    "opm_dynamic_df_dict = {}\n",
    "\n",
    "# Load dataframes we want\n",
    "for year in range(start_year, end_year + 1):\n",
    "    for qtr in range(1, 5):\n",
    "        if (year == start_year) and (qtr < start_qtr):\n",
    "            continue\n",
    "        if (year == end_year) and (qtr > end_qtr):\n",
    "            continue\n",
    "\n",
    "        print(f'Loading year {year}, quarter {qtr}.')\n",
    "\n",
    "        opm_educ_df_dict[(year, qtr)] = pd.read_fwf(opm_status_path_dict[(year, qtr)], colspecs = list(opm_status_fwf_dict.values()), names = list(opm_status_fwf_dict.keys()), dtype = str, usecols = ['Pseudo-ID', 'Education Level'])\n",
    "        opm_dynamic_df_dict[(year, qtr)] = pd.read_fwf(opm_dynamic_path_dict[(year, qtr)], colspecs = list(opm_dynamic_fwf_dict.values()), names = list(opm_dynamic_fwf_dict.keys()), dtype = str)\n",
    "\n",
    "opm_educ_df_dict[(1982, 1)] = opm_educ_df_dict[(1982, 1)][:-1] # Drop last row which has name of other files for some reason"
   ]
  },
  {
   "cell_type": "code",
   "execution_count": 108,
   "id": "e6da7ab9",
   "metadata": {},
   "outputs": [
    {
     "name": "stdout",
     "output_type": "stream",
     "text": [
      "Concatenating year 1982, quarter 1.\n",
      "Merging year 1982, quarter 1.\n",
      "Concatenating year 1982, quarter 2.\n",
      "Merging year 1982, quarter 2.\n",
      "Concatenating year 1982, quarter 3.\n",
      "Merging year 1982, quarter 3.\n",
      "Concatenating year 1982, quarter 4.\n",
      "Merging year 1982, quarter 4.\n",
      "Concatenating year 1983, quarter 1.\n",
      "Merging year 1983, quarter 1.\n",
      "Concatenating year 1983, quarter 2.\n",
      "Merging year 1983, quarter 2.\n",
      "Concatenating year 1983, quarter 3.\n",
      "Merging year 1983, quarter 3.\n",
      "Concatenating year 1983, quarter 4.\n",
      "Merging year 1983, quarter 4.\n",
      "Concatenating year 1984, quarter 1.\n",
      "Merging year 1984, quarter 1.\n",
      "Concatenating year 1984, quarter 2.\n",
      "Merging year 1984, quarter 2.\n",
      "Concatenating year 1984, quarter 3.\n",
      "Merging year 1984, quarter 3.\n",
      "Concatenating year 1984, quarter 4.\n",
      "Merging year 1984, quarter 4.\n",
      "Concatenating year 1985, quarter 1.\n",
      "Merging year 1985, quarter 1.\n"
     ]
    }
   ],
   "source": [
    "for year in range(start_year, end_year + 1):\n",
    "    for qtr in range(1, 5):\n",
    "        if (year == start_year) and (qtr < start_qtr):\n",
    "            continue\n",
    "        if (year == end_year) and (qtr > end_qtr):\n",
    "            continue\n",
    "\n",
    "        yq_current = year*4 + qtr\n",
    "\n",
    "        print(f'Concatenating year {year}, quarter {qtr}.')\n",
    "\n",
    "        # Produce df to merge\n",
    "        educ_df_to_merge = pd.DataFrame()\n",
    "        for key, df in opm_educ_df_dict.items():\n",
    "            yq_df = key[0]*4 + key[1]\n",
    "\n",
    "            # Want to merge education info from status file within the year before and after the relevant dynamic file date\n",
    "            if -4 <= yq_df - yq_current <= 4:\n",
    "                educ_df_to_merge = pd.concat([educ_df_to_merge, df], ignore_index = True)\n",
    "\n",
    "        print(f'Merging year {year}, quarter {qtr}.')\n",
    "        # Merge education info to dynamic dfs\n",
    "        opm_dynamic_df_dict[(year, qtr)] = opm_dynamic_df_dict[(year, qtr)].merge(educ_df_to_merge, how = 'left', on = ['Pseudo-ID'])"
   ]
  },
  {
   "cell_type": "code",
   "execution_count": null,
   "id": "419505ed",
   "metadata": {},
   "outputs": [],
   "source": []
  },
  {
   "cell_type": "code",
   "execution_count": null,
   "id": "efceb8af",
   "metadata": {},
   "outputs": [],
   "source": []
  }
 ],
 "metadata": {
  "kernelspec": {
   "display_name": "Python 3 (ipykernel)",
   "language": "python",
   "name": "python3"
  },
  "language_info": {
   "codemirror_mode": {
    "name": "ipython",
    "version": 3
   },
   "file_extension": ".py",
   "mimetype": "text/x-python",
   "name": "python",
   "nbconvert_exporter": "python",
   "pygments_lexer": "ipython3",
   "version": "3.9.7"
  }
 },
 "nbformat": 4,
 "nbformat_minor": 5
}
