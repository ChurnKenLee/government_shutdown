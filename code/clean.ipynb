{
 "cells": [
  {
   "cell_type": "code",
   "execution_count": 1,
   "id": "2e2df5f0",
   "metadata": {},
   "outputs": [],
   "source": [
    "import pandas as pd\n",
    "from collections import OrderedDict\n",
    "import os"
   ]
  },
  {
   "cell_type": "code",
   "execution_count": 2,
   "id": "f15b194f",
   "metadata": {},
   "outputs": [],
   "source": [
    "opm_dynamic_dir = os.path.join('..', 'rawdata', 'opm-federal-employment-data', 'data', '1973-09-to-2014-06', 'non-dod', 'dynamic')\n",
    "opm_status_dir = os.path.join('..', 'rawdata', 'opm-federal-employment-data', 'data', '1973-09-to-2014-06', 'non-dod', 'status')"
   ]
  },
  {
   "cell_type": "code",
   "execution_count": 3,
   "id": "07cd5fbf",
   "metadata": {},
   "outputs": [],
   "source": [
    "# Define the dict for reading OPM dynamic files\n",
    "opm_dynamic_fwf_dict = OrderedDict([\n",
    "    ('Pseudo-ID', (0, 9)),\n",
    "    ('Employee Name', (9, 32)),\n",
    "    ('Agency/Subelement', (32, 36)),\n",
    "    ('Accession/Separation Indicator', (36, 38)),\n",
    "    ('Effective Date', (38, 46)),\n",
    "    ('Age', (46, 52)),\n",
    "    ('Pay Plan', (52, 54)),\n",
    "    ('Grade', (54, 56)),\n",
    "    ('LOS Level', (56, 62)),\n",
    "    ('Duty Station', (62, 71)),\n",
    "    ('Occupation', (71, 75)),\n",
    "    ('Occupational Cateogy (PATCO)', (75, 76)),\n",
    "    ('Adjusted Basic Pay', (76, 82)),\n",
    "    ('Type of Appointment', (82, 84)),\n",
    "    ('Work Schedule', (84, 85))\n",
    "])"
   ]
  },
  {
   "cell_type": "code",
   "execution_count": 4,
   "id": "a957a471",
   "metadata": {},
   "outputs": [],
   "source": [
    "# Define the dict for reading OPM status files\n",
    "opm_status_fwf_dict = OrderedDict([\n",
    "    ('Pseudo-ID', (0, 9)),\n",
    "    ('Employee Name', (9, 32)),\n",
    "    ('File Date (yyyymmdd)', (32, 40)),\n",
    "    ('Agency/Subelement', (40, 44)),\n",
    "    ('Duty Station', (44, 53)),\n",
    "    ('Age Range', (53, 59)),\n",
    "    ('Education Level', (59, 61)),\n",
    "    ('Pay Plan', (61, 63)),\n",
    "    ('Grade', (63, 65)),\n",
    "    ('LOS Level', (65, 71)),\n",
    "    ('Occupation', (71, 75)),\n",
    "    ('Occupational Category (PATCO)', (75, 76)),\n",
    "    ('Adjusted Basic Pay', (76, 82)),\n",
    "    ('Supervisory Status', (82, 83)),\n",
    "    ('Type of Appointment', (83, 85)),\n",
    "    ('Work Schedule', (85, 86)),\n",
    "    ('NSFTP Indicator', (86, 87))\n",
    "])"
   ]
  },
  {
   "cell_type": "code",
   "execution_count": 5,
   "id": "cfd98052",
   "metadata": {},
   "outputs": [],
   "source": [
    "start_date = '1982-01'\n",
    "end_date = '1983-01'"
   ]
  },
  {
   "cell_type": "code",
   "execution_count": 6,
   "id": "1d0e4244",
   "metadata": {},
   "outputs": [],
   "source": [
    "# Define functions that return a dict of files in the status or dynamic directory, indexed by year and quarter\n",
    "def produce_opm_dynamic_path_dict(input_path):\n",
    "    output_dict = {}\n",
    "    for file in os.listdir(input_path):\n",
    "        file_date = pd.to_datetime(file[0:7])\n",
    "        year = file_date.year\n",
    "        quarter = file_date.quarter\n",
    "        output_dict[(year, quarter)] = os.path.join(input_path, file)\n",
    "\n",
    "    return output_dict\n",
    "\n",
    "def produce_opm_status_path_dict(input_path):\n",
    "    output_dict = {}\n",
    "    for file in os.listdir(input_path):\n",
    "        file_date = pd.to_datetime('-'.join(file[15:22].split('_')))\n",
    "        year = file_date.year\n",
    "        quarter = file_date.quarter\n",
    "        output_dict[(year, quarter)] = os.path.join(input_path, file)\n",
    "\n",
    "    return output_dict"
   ]
  },
  {
   "cell_type": "code",
   "execution_count": 7,
   "id": "3bfeb434",
   "metadata": {},
   "outputs": [],
   "source": [
    "opm_dynamic_path_dict = produce_opm_dynamic_path_dict(opm_dynamic_dir)\n",
    "opm_status_path_dict = produce_opm_status_path_dict(opm_status_dir)"
   ]
  },
  {
   "cell_type": "code",
   "execution_count": null,
   "id": "0f7cc2d0",
   "metadata": {},
   "outputs": [],
   "source": []
  },
  {
   "cell_type": "code",
   "execution_count": null,
   "id": "177fb3b9",
   "metadata": {},
   "outputs": [],
   "source": []
  },
  {
   "cell_type": "code",
   "execution_count": null,
   "id": "fa8a5e86",
   "metadata": {},
   "outputs": [],
   "source": [
    "def read_opm_dynamic_fwf(start_date, end_date, path, fwf_dict):\n",
    "    start_date = pd.to_datetime(start_date)\n",
    "    end_date = pd.to_datetime(end_date)\n",
    "\n",
    "    # Create list of files to load based on date ranges selected\n",
    "    files_to_load = []\n",
    "    for file in os.listdir(path):\n",
    "        file_date = pd.to_datetime(file[0:7])\n",
    "        if start_date <= file_date <= end_date:\n",
    "            files_to_load.append(file)\n",
    "\n",
    "    files_to_load.sort(key = lambda x: pd.to_datetime(x[0:7])) # Sort list of files to load by date\n",
    "\n",
    "    # Load files in list into dataframe\n",
    "    df = pd.DataFrame()\n",
    "    for file in files_to_load:\n",
    "        df = df.append(pd.read_fwf(os.path.join(path, file), colspecs = list(fwf_dict.values()), names = list(fwf_dict.keys())))\n",
    "\n",
    "    return df"
   ]
  },
  {
   "cell_type": "code",
   "execution_count": null,
   "id": "b9e57f26",
   "metadata": {},
   "outputs": [],
   "source": [
    "def read_opm_status_fwf(start_date, end_date, path, fwf_dict):\n",
    "    start_date = pd.to_datetime(start_date)\n",
    "    end_date = pd.to_datetime(end_date)\n",
    "\n",
    "    # Create list of files to load based on date ranges selected\n",
    "    files_to_load = []\n",
    "    for file in os.listdir(path):\n",
    "        file_date = pd.to_datetime('-'.join(file[15:22].split('_'))) # Have to split and rejoin dates using '-'\n",
    "        if start_date <= file_date <= end_date:\n",
    "            files_to_load.append(file)\n",
    "\n",
    "    files_to_load.sort(key = lambda x: pd.to_datetime('-'.join(x[15:22].split('_')))) # Sort list of files to load by date\n",
    "\n",
    "    # Combine text files to be read\n",
    "    combined_fwf_file = open(os.path.join(path, files_to_load[0]), 'a') # Load first file\n",
    "    for file in files_to_load[1:-1]:\n",
    "        combined_fwf_file.write(file)\n",
    "        \n",
    "    \n",
    "    # Load files in list into dataframe\n",
    "    df = pd.read_fwf(combined_fwf_file, colspecs = list(fwf_dict.values()), names = list(fwf_dict.keys()))\n",
    "\n",
    "    return df"
   ]
  },
  {
   "cell_type": "code",
   "execution_count": null,
   "id": "7c22c60c",
   "metadata": {},
   "outputs": [],
   "source": []
  },
  {
   "cell_type": "code",
   "execution_count": null,
   "id": "08d3aa2f",
   "metadata": {},
   "outputs": [],
   "source": []
  },
  {
   "cell_type": "code",
   "execution_count": null,
   "id": "27145cc4",
   "metadata": {},
   "outputs": [],
   "source": [
    "opm_dynamic_df = read_opm_dynamic_fwf(start_date, end_date, opm_dynamic_dir, opm_dynamic_fwf_dict)"
   ]
  },
  {
   "cell_type": "code",
   "execution_count": null,
   "id": "777cc482",
   "metadata": {},
   "outputs": [],
   "source": [
    "opm_status_df = read_opm_status_fwf(start_date, end_date, opm_status_dir, opm_status_fwf_dict)"
   ]
  },
  {
   "cell_type": "code",
   "execution_count": null,
   "id": "a76fac34",
   "metadata": {},
   "outputs": [],
   "source": []
  }
 ],
 "metadata": {
  "kernelspec": {
   "display_name": "Python 3 (ipykernel)",
   "language": "python",
   "name": "python3"
  },
  "language_info": {
   "codemirror_mode": {
    "name": "ipython",
    "version": 3
   },
   "file_extension": ".py",
   "mimetype": "text/x-python",
   "name": "python",
   "nbconvert_exporter": "python",
   "pygments_lexer": "ipython3",
   "version": "3.9.7"
  }
 },
 "nbformat": 4,
 "nbformat_minor": 5
}
