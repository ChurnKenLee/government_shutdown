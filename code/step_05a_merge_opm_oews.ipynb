{
 "cells": [
  {
   "cell_type": "code",
   "execution_count": 177,
   "metadata": {},
   "outputs": [],
   "source": [
    "from pathlib import Path\n",
    "import pandas as pd\n",
    "import json\n",
    "from itertools import islice\n",
    "import re"
   ]
  },
  {
   "cell_type": "code",
   "execution_count": 178,
   "metadata": {},
   "outputs": [],
   "source": [
    "with open('../code_output/oews_feather_path_dict.json') as infile:\n",
    "    oews_path_dict = json.load(infile)"
   ]
  },
  {
   "cell_type": "code",
   "execution_count": 179,
   "metadata": {},
   "outputs": [],
   "source": [
    "with open('../code_output/opm_collapsed_pre2014_feather_path_dict.json') as infile:\n",
    "    opm_path_dict = json.load(infile)"
   ]
  },
  {
   "cell_type": "code",
   "execution_count": 180,
   "metadata": {},
   "outputs": [],
   "source": [
    "census_occ_1018_xwalk_df = pd.read_feather('../code_output/census_occ_1018_xwalk.feather')\n",
    "census_occ_0010_xwalk_df = pd.read_feather('../code_output/census_occ_0010_xwalk.feather')\n",
    "census_occ_1018_xwalk_df = census_occ_1018_xwalk_df[['2018_census_occ_code', '2010_census_occ_code']]\n",
    "occ_soc_18_xwalk_df = pd.read_feather('../code_output/occ_soc_18_xwalk.feather')\n",
    "occ_soc_10_xwalk_df = pd.read_feather('../code_output/occ_soc_10_xwalk.feather')\n",
    "occ_soc_00_xwalk_df = pd.read_feather('../code_output/occ_soc_00_xwalk.feather')"
   ]
  },
  {
   "cell_type": "code",
   "execution_count": 181,
   "metadata": {},
   "outputs": [],
   "source": [
    "oews_opm_merged_feather_path_dict = {}\n",
    "binary_path = Path('../cleaned_binaries/')"
   ]
  },
  {
   "cell_type": "code",
   "execution_count": 182,
   "metadata": {},
   "outputs": [
    {
     "name": "stdout",
     "output_type": "stream",
     "text": [
      "Merging 2000\n",
      "Merging 2001\n",
      "Merging 2002\n",
      "Merging 1997\n",
      "Merging 1998\n",
      "Merging 1999\n",
      "Merging 2003\n",
      "Merging 2004\n",
      "Merging 2005\n",
      "Merging 2006\n",
      "Merging 2007\n",
      "Merging 2008\n",
      "Merging 2009\n",
      "Merging 2010\n",
      "Merging 2011\n",
      "Merging 2012\n",
      "Merging 2013\n",
      "Merging 2014\n"
     ]
    }
   ],
   "source": [
    "for year, oews_path in oews_path_dict.items():\n",
    "\n",
    "    if int(year) > 2014:\n",
    "        continue\n",
    "\n",
    "    print(f'Merging {year}')\n",
    "\n",
    "    oews_df = pd.read_feather(Path(oews_path))\n",
    "\n",
    "    if int(year) < 2010:\n",
    "        oews_df = oews_df.merge(occ_soc_00_xwalk_df, how = 'inner', left_on = ['occ_code'], right_on = ['2000_soc_code'])\n",
    "        oews_df['tot_inc'] = oews_df['tot_emp']*oews_df['a_mean']\n",
    "\n",
    "        oews_collapsed_df = oews_df.groupby(by = ['area', '2000_census_occ_code']).agg({\n",
    "            'area_name': 'first',\n",
    "            'occ_title': 'first',\n",
    "            'tot_emp': 'sum',\n",
    "            '2000_soc_code': 'first',\n",
    "            'tot_inc': 'sum'\n",
    "        })\n",
    "    elif 2009 < int(year) < 2015:\n",
    "        oews_df = oews_df.merge(occ_soc_10_xwalk_df, how = 'inner', left_on = ['occ_code'], right_on = ['2010_soc_code'])\n",
    "        oews_df['tot_inc'] = oews_df['tot_emp']*oews_df['a_mean']\n",
    "\n",
    "        oews_collapsed_df = oews_df.groupby(by = ['area', '2010_census_occ_code']).agg({\n",
    "            'area_name': 'first',\n",
    "            'occ_title': 'first',\n",
    "            'tot_emp': 'sum',\n",
    "            '2010_soc_code': 'first',\n",
    "            'tot_inc': 'sum'\n",
    "        })\n",
    "\n",
    "\n",
    "\n",
    "    oews_collapsed_df['a_mean'] = oews_collapsed_df['tot_inc']/oews_collapsed_df['tot_emp']\n",
    "    oews_collapsed_df.reset_index(inplace = True)\n",
    "\n",
    "    if int(year) > 2004:\n",
    "        oews_collapsed_df['area'] = oews_collapsed_df['area'].str.slice(stop = 4) # MSA code has 1 trailing 0 after 2004\n",
    "\n",
    "    opm_path = opm_path_dict[year]\n",
    "    opm_df = pd.read_feather(Path(opm_path))\n",
    "    opm_df['msa_code'] = opm_df['msa_code'].str.slice(start = 1)\n",
    "\n",
    "    if int(year) < 2010:\n",
    "        oews_opm_merged_df = oews_collapsed_df.merge(opm_df, how = 'inner', left_on = ['area', '2000_census_occ_code'], right_on = ['msa_code', '2000_census_occ_code'])\n",
    "    elif 2009 < int(year) < 2015:\n",
    "        oews_opm_merged_df = oews_collapsed_df.merge(opm_df, how = 'inner', left_on = ['area', '2010_census_occ_code'], right_on = ['msa_code', '2010_census_occ_code'])\n",
    "\n",
    "    oews_opm_merged_df.reset_index(inplace = True, drop = True)\n",
    "\n",
    "    target_path = Path(binary_path).joinpath(f'oews_opm_merged_{year}.feather')\n",
    "    oews_opm_merged_df.to_feather(target_path)\n",
    "\n",
    "    oews_opm_merged_feather_path_dict[year] = str(target_path)"
   ]
  },
  {
   "cell_type": "code",
   "execution_count": 183,
   "metadata": {},
   "outputs": [],
   "source": [
    "# Save dictionaries for paths of binaries\n",
    "with open('../code_output/oews_opm_merged_feather_path_dict.json', 'w') as outfile:\n",
    "    json.dump(oews_opm_merged_feather_path_dict, outfile, indent = 4)"
   ]
  },
  {
   "cell_type": "code",
   "execution_count": null,
   "metadata": {},
   "outputs": [],
   "source": []
  },
  {
   "cell_type": "code",
   "execution_count": null,
   "metadata": {},
   "outputs": [],
   "source": []
  }
 ],
 "metadata": {
  "interpreter": {
   "hash": "d17b7b52486b7ddd73814d01c6691018dc71175d95eb65a2b9cd66e1b85695ed"
  },
  "kernelspec": {
   "display_name": "Python 3.9.7 ('base')",
   "language": "python",
   "name": "python3"
  },
  "language_info": {
   "codemirror_mode": {
    "name": "ipython",
    "version": 3
   },
   "file_extension": ".py",
   "mimetype": "text/x-python",
   "name": "python",
   "nbconvert_exporter": "python",
   "pygments_lexer": "ipython3",
   "version": "3.9.12"
  },
  "orig_nbformat": 4
 },
 "nbformat": 4,
 "nbformat_minor": 2
}
