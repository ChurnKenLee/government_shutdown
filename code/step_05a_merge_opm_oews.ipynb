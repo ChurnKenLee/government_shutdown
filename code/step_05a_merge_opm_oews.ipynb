{
 "cells": [
  {
   "cell_type": "code",
   "execution_count": 6,
   "metadata": {},
   "outputs": [],
   "source": [
    "from pathlib import Path\n",
    "import pandas as pd\n",
    "import json\n",
    "from itertools import islice\n",
    "import re"
   ]
  },
  {
   "cell_type": "code",
   "execution_count": 7,
   "metadata": {},
   "outputs": [],
   "source": [
    "with open('../code_output/oews_feather_path_dict.json') as infile:\n",
    "    oews_path_dict = json.load(infile)"
   ]
  },
  {
   "cell_type": "code",
   "execution_count": 8,
   "metadata": {},
   "outputs": [],
   "source": [
    "with open('../code_output/opm_collapsed_pre2014_feather_path_dict.json') as infile:\n",
    "    opm_path_dict = json.load(infile)"
   ]
  },
  {
   "cell_type": "code",
   "execution_count": 12,
   "metadata": {},
   "outputs": [],
   "source": [
    "oews_df = pd.read_feather(oews_path_dict['2013'])"
   ]
  },
  {
   "cell_type": "code",
   "execution_count": 13,
   "metadata": {},
   "outputs": [],
   "source": [
    "opm_df = pd.read_feather(opm_path_dict['2013'])"
   ]
  },
  {
   "cell_type": "code",
   "execution_count": 19,
   "metadata": {},
   "outputs": [
    {
     "data": {
      "text/plain": [
       "area           int64\n",
       "area_name     object\n",
       "occ_code      object\n",
       "occ_title     object\n",
       "tot_emp      float64\n",
       "a_mean       float64\n",
       "dtype: object"
      ]
     },
     "execution_count": 19,
     "metadata": {},
     "output_type": "execute_result"
    }
   ],
   "source": [
    "oews_df.dtypes"
   ]
  },
  {
   "cell_type": "code",
   "execution_count": 18,
   "metadata": {},
   "outputs": [
    {
     "data": {
      "text/plain": [
       "2018_soc_code        object\n",
       "cbsa                 object\n",
       "opm_n_emp             int64\n",
       "mean_abp            float64\n",
       "opm_occ_code         object\n",
       "opm_occ_title        object\n",
       "census_occ_code      object\n",
       "census_occ_title     object\n",
       "county               object\n",
       "state                object\n",
       "dtype: object"
      ]
     },
     "execution_count": 18,
     "metadata": {},
     "output_type": "execute_result"
    }
   ],
   "source": [
    "opm_df.dtypes"
   ]
  },
  {
   "cell_type": "code",
   "execution_count": 16,
   "metadata": {},
   "outputs": [
    {
     "ename": "ValueError",
     "evalue": "You are trying to merge on int64 and object columns. If you wish to proceed you should use pd.concat",
     "output_type": "error",
     "traceback": [
      "\u001b[1;31m---------------------------------------------------------------------------\u001b[0m",
      "\u001b[1;31mValueError\u001b[0m                                Traceback (most recent call last)",
      "\u001b[1;32mc:\\Users\\churn_5stexhd\\Documents\\UCSD\\Projects\\government_shutdown\\code\\step_04a_merge_opm_oews.ipynb Cell 8'\u001b[0m in \u001b[0;36m<cell line: 1>\u001b[1;34m()\u001b[0m\n\u001b[1;32m----> <a href='vscode-notebook-cell:/c%3A/Users/churn_5stexhd/Documents/UCSD/Projects/government_shutdown/code/step_04a_merge_opm_oews.ipynb#ch0000009?line=0'>1</a>\u001b[0m oews_df\u001b[39m.\u001b[39;49mmerge(opm_df, how \u001b[39m=\u001b[39;49m \u001b[39m'\u001b[39;49m\u001b[39mouter\u001b[39;49m\u001b[39m'\u001b[39;49m, left_on \u001b[39m=\u001b[39;49m [\u001b[39m'\u001b[39;49m\u001b[39marea\u001b[39;49m\u001b[39m'\u001b[39;49m, \u001b[39m'\u001b[39;49m\u001b[39mocc_code\u001b[39;49m\u001b[39m'\u001b[39;49m], right_on \u001b[39m=\u001b[39;49m [\u001b[39m'\u001b[39;49m\u001b[39mcbsa\u001b[39;49m\u001b[39m'\u001b[39;49m, \u001b[39m'\u001b[39;49m\u001b[39m2018_soc_code\u001b[39;49m\u001b[39m'\u001b[39;49m])\n",
      "File \u001b[1;32m~\\Utilities\\anaconda3\\lib\\site-packages\\pandas\\core\\frame.py:9345\u001b[0m, in \u001b[0;36mDataFrame.merge\u001b[1;34m(self, right, how, on, left_on, right_on, left_index, right_index, sort, suffixes, copy, indicator, validate)\u001b[0m\n\u001b[0;32m   <a href='file:///c%3A/Users/churn_5stexhd/Utilities/anaconda3/lib/site-packages/pandas/core/frame.py?line=9325'>9326</a>\u001b[0m \u001b[39m@Substitution\u001b[39m(\u001b[39m\"\u001b[39m\u001b[39m\"\u001b[39m)\n\u001b[0;32m   <a href='file:///c%3A/Users/churn_5stexhd/Utilities/anaconda3/lib/site-packages/pandas/core/frame.py?line=9326'>9327</a>\u001b[0m \u001b[39m@Appender\u001b[39m(_merge_doc, indents\u001b[39m=\u001b[39m\u001b[39m2\u001b[39m)\n\u001b[0;32m   <a href='file:///c%3A/Users/churn_5stexhd/Utilities/anaconda3/lib/site-packages/pandas/core/frame.py?line=9327'>9328</a>\u001b[0m \u001b[39mdef\u001b[39;00m \u001b[39mmerge\u001b[39m(\n\u001b[1;32m   (...)\u001b[0m\n\u001b[0;32m   <a href='file:///c%3A/Users/churn_5stexhd/Utilities/anaconda3/lib/site-packages/pandas/core/frame.py?line=9340'>9341</a>\u001b[0m     validate: \u001b[39mstr\u001b[39m \u001b[39m|\u001b[39m \u001b[39mNone\u001b[39;00m \u001b[39m=\u001b[39m \u001b[39mNone\u001b[39;00m,\n\u001b[0;32m   <a href='file:///c%3A/Users/churn_5stexhd/Utilities/anaconda3/lib/site-packages/pandas/core/frame.py?line=9341'>9342</a>\u001b[0m ) \u001b[39m-\u001b[39m\u001b[39m>\u001b[39m DataFrame:\n\u001b[0;32m   <a href='file:///c%3A/Users/churn_5stexhd/Utilities/anaconda3/lib/site-packages/pandas/core/frame.py?line=9342'>9343</a>\u001b[0m     \u001b[39mfrom\u001b[39;00m \u001b[39mpandas\u001b[39;00m\u001b[39m.\u001b[39;00m\u001b[39mcore\u001b[39;00m\u001b[39m.\u001b[39;00m\u001b[39mreshape\u001b[39;00m\u001b[39m.\u001b[39;00m\u001b[39mmerge\u001b[39;00m \u001b[39mimport\u001b[39;00m merge\n\u001b[1;32m-> <a href='file:///c%3A/Users/churn_5stexhd/Utilities/anaconda3/lib/site-packages/pandas/core/frame.py?line=9344'>9345</a>\u001b[0m     \u001b[39mreturn\u001b[39;00m merge(\n\u001b[0;32m   <a href='file:///c%3A/Users/churn_5stexhd/Utilities/anaconda3/lib/site-packages/pandas/core/frame.py?line=9345'>9346</a>\u001b[0m         \u001b[39mself\u001b[39;49m,\n\u001b[0;32m   <a href='file:///c%3A/Users/churn_5stexhd/Utilities/anaconda3/lib/site-packages/pandas/core/frame.py?line=9346'>9347</a>\u001b[0m         right,\n\u001b[0;32m   <a href='file:///c%3A/Users/churn_5stexhd/Utilities/anaconda3/lib/site-packages/pandas/core/frame.py?line=9347'>9348</a>\u001b[0m         how\u001b[39m=\u001b[39;49mhow,\n\u001b[0;32m   <a href='file:///c%3A/Users/churn_5stexhd/Utilities/anaconda3/lib/site-packages/pandas/core/frame.py?line=9348'>9349</a>\u001b[0m         on\u001b[39m=\u001b[39;49mon,\n\u001b[0;32m   <a href='file:///c%3A/Users/churn_5stexhd/Utilities/anaconda3/lib/site-packages/pandas/core/frame.py?line=9349'>9350</a>\u001b[0m         left_on\u001b[39m=\u001b[39;49mleft_on,\n\u001b[0;32m   <a href='file:///c%3A/Users/churn_5stexhd/Utilities/anaconda3/lib/site-packages/pandas/core/frame.py?line=9350'>9351</a>\u001b[0m         right_on\u001b[39m=\u001b[39;49mright_on,\n\u001b[0;32m   <a href='file:///c%3A/Users/churn_5stexhd/Utilities/anaconda3/lib/site-packages/pandas/core/frame.py?line=9351'>9352</a>\u001b[0m         left_index\u001b[39m=\u001b[39;49mleft_index,\n\u001b[0;32m   <a href='file:///c%3A/Users/churn_5stexhd/Utilities/anaconda3/lib/site-packages/pandas/core/frame.py?line=9352'>9353</a>\u001b[0m         right_index\u001b[39m=\u001b[39;49mright_index,\n\u001b[0;32m   <a href='file:///c%3A/Users/churn_5stexhd/Utilities/anaconda3/lib/site-packages/pandas/core/frame.py?line=9353'>9354</a>\u001b[0m         sort\u001b[39m=\u001b[39;49msort,\n\u001b[0;32m   <a href='file:///c%3A/Users/churn_5stexhd/Utilities/anaconda3/lib/site-packages/pandas/core/frame.py?line=9354'>9355</a>\u001b[0m         suffixes\u001b[39m=\u001b[39;49msuffixes,\n\u001b[0;32m   <a href='file:///c%3A/Users/churn_5stexhd/Utilities/anaconda3/lib/site-packages/pandas/core/frame.py?line=9355'>9356</a>\u001b[0m         copy\u001b[39m=\u001b[39;49mcopy,\n\u001b[0;32m   <a href='file:///c%3A/Users/churn_5stexhd/Utilities/anaconda3/lib/site-packages/pandas/core/frame.py?line=9356'>9357</a>\u001b[0m         indicator\u001b[39m=\u001b[39;49mindicator,\n\u001b[0;32m   <a href='file:///c%3A/Users/churn_5stexhd/Utilities/anaconda3/lib/site-packages/pandas/core/frame.py?line=9357'>9358</a>\u001b[0m         validate\u001b[39m=\u001b[39;49mvalidate,\n\u001b[0;32m   <a href='file:///c%3A/Users/churn_5stexhd/Utilities/anaconda3/lib/site-packages/pandas/core/frame.py?line=9358'>9359</a>\u001b[0m     )\n",
      "File \u001b[1;32m~\\Utilities\\anaconda3\\lib\\site-packages\\pandas\\core\\reshape\\merge.py:107\u001b[0m, in \u001b[0;36mmerge\u001b[1;34m(left, right, how, on, left_on, right_on, left_index, right_index, sort, suffixes, copy, indicator, validate)\u001b[0m\n\u001b[0;32m     <a href='file:///c%3A/Users/churn_5stexhd/Utilities/anaconda3/lib/site-packages/pandas/core/reshape/merge.py?line=89'>90</a>\u001b[0m \u001b[39m@Substitution\u001b[39m(\u001b[39m\"\u001b[39m\u001b[39m\\n\u001b[39;00m\u001b[39mleft : DataFrame or named Series\u001b[39m\u001b[39m\"\u001b[39m)\n\u001b[0;32m     <a href='file:///c%3A/Users/churn_5stexhd/Utilities/anaconda3/lib/site-packages/pandas/core/reshape/merge.py?line=90'>91</a>\u001b[0m \u001b[39m@Appender\u001b[39m(_merge_doc, indents\u001b[39m=\u001b[39m\u001b[39m0\u001b[39m)\n\u001b[0;32m     <a href='file:///c%3A/Users/churn_5stexhd/Utilities/anaconda3/lib/site-packages/pandas/core/reshape/merge.py?line=91'>92</a>\u001b[0m \u001b[39mdef\u001b[39;00m \u001b[39mmerge\u001b[39m(\n\u001b[1;32m   (...)\u001b[0m\n\u001b[0;32m    <a href='file:///c%3A/Users/churn_5stexhd/Utilities/anaconda3/lib/site-packages/pandas/core/reshape/merge.py?line=104'>105</a>\u001b[0m     validate: \u001b[39mstr\u001b[39m \u001b[39m|\u001b[39m \u001b[39mNone\u001b[39;00m \u001b[39m=\u001b[39m \u001b[39mNone\u001b[39;00m,\n\u001b[0;32m    <a href='file:///c%3A/Users/churn_5stexhd/Utilities/anaconda3/lib/site-packages/pandas/core/reshape/merge.py?line=105'>106</a>\u001b[0m ) \u001b[39m-\u001b[39m\u001b[39m>\u001b[39m DataFrame:\n\u001b[1;32m--> <a href='file:///c%3A/Users/churn_5stexhd/Utilities/anaconda3/lib/site-packages/pandas/core/reshape/merge.py?line=106'>107</a>\u001b[0m     op \u001b[39m=\u001b[39m _MergeOperation(\n\u001b[0;32m    <a href='file:///c%3A/Users/churn_5stexhd/Utilities/anaconda3/lib/site-packages/pandas/core/reshape/merge.py?line=107'>108</a>\u001b[0m         left,\n\u001b[0;32m    <a href='file:///c%3A/Users/churn_5stexhd/Utilities/anaconda3/lib/site-packages/pandas/core/reshape/merge.py?line=108'>109</a>\u001b[0m         right,\n\u001b[0;32m    <a href='file:///c%3A/Users/churn_5stexhd/Utilities/anaconda3/lib/site-packages/pandas/core/reshape/merge.py?line=109'>110</a>\u001b[0m         how\u001b[39m=\u001b[39;49mhow,\n\u001b[0;32m    <a href='file:///c%3A/Users/churn_5stexhd/Utilities/anaconda3/lib/site-packages/pandas/core/reshape/merge.py?line=110'>111</a>\u001b[0m         on\u001b[39m=\u001b[39;49mon,\n\u001b[0;32m    <a href='file:///c%3A/Users/churn_5stexhd/Utilities/anaconda3/lib/site-packages/pandas/core/reshape/merge.py?line=111'>112</a>\u001b[0m         left_on\u001b[39m=\u001b[39;49mleft_on,\n\u001b[0;32m    <a href='file:///c%3A/Users/churn_5stexhd/Utilities/anaconda3/lib/site-packages/pandas/core/reshape/merge.py?line=112'>113</a>\u001b[0m         right_on\u001b[39m=\u001b[39;49mright_on,\n\u001b[0;32m    <a href='file:///c%3A/Users/churn_5stexhd/Utilities/anaconda3/lib/site-packages/pandas/core/reshape/merge.py?line=113'>114</a>\u001b[0m         left_index\u001b[39m=\u001b[39;49mleft_index,\n\u001b[0;32m    <a href='file:///c%3A/Users/churn_5stexhd/Utilities/anaconda3/lib/site-packages/pandas/core/reshape/merge.py?line=114'>115</a>\u001b[0m         right_index\u001b[39m=\u001b[39;49mright_index,\n\u001b[0;32m    <a href='file:///c%3A/Users/churn_5stexhd/Utilities/anaconda3/lib/site-packages/pandas/core/reshape/merge.py?line=115'>116</a>\u001b[0m         sort\u001b[39m=\u001b[39;49msort,\n\u001b[0;32m    <a href='file:///c%3A/Users/churn_5stexhd/Utilities/anaconda3/lib/site-packages/pandas/core/reshape/merge.py?line=116'>117</a>\u001b[0m         suffixes\u001b[39m=\u001b[39;49msuffixes,\n\u001b[0;32m    <a href='file:///c%3A/Users/churn_5stexhd/Utilities/anaconda3/lib/site-packages/pandas/core/reshape/merge.py?line=117'>118</a>\u001b[0m         copy\u001b[39m=\u001b[39;49mcopy,\n\u001b[0;32m    <a href='file:///c%3A/Users/churn_5stexhd/Utilities/anaconda3/lib/site-packages/pandas/core/reshape/merge.py?line=118'>119</a>\u001b[0m         indicator\u001b[39m=\u001b[39;49mindicator,\n\u001b[0;32m    <a href='file:///c%3A/Users/churn_5stexhd/Utilities/anaconda3/lib/site-packages/pandas/core/reshape/merge.py?line=119'>120</a>\u001b[0m         validate\u001b[39m=\u001b[39;49mvalidate,\n\u001b[0;32m    <a href='file:///c%3A/Users/churn_5stexhd/Utilities/anaconda3/lib/site-packages/pandas/core/reshape/merge.py?line=120'>121</a>\u001b[0m     )\n\u001b[0;32m    <a href='file:///c%3A/Users/churn_5stexhd/Utilities/anaconda3/lib/site-packages/pandas/core/reshape/merge.py?line=121'>122</a>\u001b[0m     \u001b[39mreturn\u001b[39;00m op\u001b[39m.\u001b[39mget_result()\n",
      "File \u001b[1;32m~\\Utilities\\anaconda3\\lib\\site-packages\\pandas\\core\\reshape\\merge.py:704\u001b[0m, in \u001b[0;36m_MergeOperation.__init__\u001b[1;34m(self, left, right, how, on, left_on, right_on, axis, left_index, right_index, sort, suffixes, copy, indicator, validate)\u001b[0m\n\u001b[0;32m    <a href='file:///c%3A/Users/churn_5stexhd/Utilities/anaconda3/lib/site-packages/pandas/core/reshape/merge.py?line=695'>696</a>\u001b[0m (\n\u001b[0;32m    <a href='file:///c%3A/Users/churn_5stexhd/Utilities/anaconda3/lib/site-packages/pandas/core/reshape/merge.py?line=696'>697</a>\u001b[0m     \u001b[39mself\u001b[39m\u001b[39m.\u001b[39mleft_join_keys,\n\u001b[0;32m    <a href='file:///c%3A/Users/churn_5stexhd/Utilities/anaconda3/lib/site-packages/pandas/core/reshape/merge.py?line=697'>698</a>\u001b[0m     \u001b[39mself\u001b[39m\u001b[39m.\u001b[39mright_join_keys,\n\u001b[0;32m    <a href='file:///c%3A/Users/churn_5stexhd/Utilities/anaconda3/lib/site-packages/pandas/core/reshape/merge.py?line=698'>699</a>\u001b[0m     \u001b[39mself\u001b[39m\u001b[39m.\u001b[39mjoin_names,\n\u001b[0;32m    <a href='file:///c%3A/Users/churn_5stexhd/Utilities/anaconda3/lib/site-packages/pandas/core/reshape/merge.py?line=699'>700</a>\u001b[0m ) \u001b[39m=\u001b[39m \u001b[39mself\u001b[39m\u001b[39m.\u001b[39m_get_merge_keys()\n\u001b[0;32m    <a href='file:///c%3A/Users/churn_5stexhd/Utilities/anaconda3/lib/site-packages/pandas/core/reshape/merge.py?line=701'>702</a>\u001b[0m \u001b[39m# validate the merge keys dtypes. We may need to coerce\u001b[39;00m\n\u001b[0;32m    <a href='file:///c%3A/Users/churn_5stexhd/Utilities/anaconda3/lib/site-packages/pandas/core/reshape/merge.py?line=702'>703</a>\u001b[0m \u001b[39m# to avoid incompatible dtypes\u001b[39;00m\n\u001b[1;32m--> <a href='file:///c%3A/Users/churn_5stexhd/Utilities/anaconda3/lib/site-packages/pandas/core/reshape/merge.py?line=703'>704</a>\u001b[0m \u001b[39mself\u001b[39;49m\u001b[39m.\u001b[39;49m_maybe_coerce_merge_keys()\n\u001b[0;32m    <a href='file:///c%3A/Users/churn_5stexhd/Utilities/anaconda3/lib/site-packages/pandas/core/reshape/merge.py?line=705'>706</a>\u001b[0m \u001b[39m# If argument passed to validate,\u001b[39;00m\n\u001b[0;32m    <a href='file:///c%3A/Users/churn_5stexhd/Utilities/anaconda3/lib/site-packages/pandas/core/reshape/merge.py?line=706'>707</a>\u001b[0m \u001b[39m# check if columns specified as unique\u001b[39;00m\n\u001b[0;32m    <a href='file:///c%3A/Users/churn_5stexhd/Utilities/anaconda3/lib/site-packages/pandas/core/reshape/merge.py?line=707'>708</a>\u001b[0m \u001b[39m# are in fact unique.\u001b[39;00m\n\u001b[0;32m    <a href='file:///c%3A/Users/churn_5stexhd/Utilities/anaconda3/lib/site-packages/pandas/core/reshape/merge.py?line=708'>709</a>\u001b[0m \u001b[39mif\u001b[39;00m validate \u001b[39mis\u001b[39;00m \u001b[39mnot\u001b[39;00m \u001b[39mNone\u001b[39;00m:\n",
      "File \u001b[1;32m~\\Utilities\\anaconda3\\lib\\site-packages\\pandas\\core\\reshape\\merge.py:1257\u001b[0m, in \u001b[0;36m_MergeOperation._maybe_coerce_merge_keys\u001b[1;34m(self)\u001b[0m\n\u001b[0;32m   <a href='file:///c%3A/Users/churn_5stexhd/Utilities/anaconda3/lib/site-packages/pandas/core/reshape/merge.py?line=1250'>1251</a>\u001b[0m     \u001b[39m# unless we are merging non-string-like with string-like\u001b[39;00m\n\u001b[0;32m   <a href='file:///c%3A/Users/churn_5stexhd/Utilities/anaconda3/lib/site-packages/pandas/core/reshape/merge.py?line=1251'>1252</a>\u001b[0m     \u001b[39melif\u001b[39;00m (\n\u001b[0;32m   <a href='file:///c%3A/Users/churn_5stexhd/Utilities/anaconda3/lib/site-packages/pandas/core/reshape/merge.py?line=1252'>1253</a>\u001b[0m         inferred_left \u001b[39min\u001b[39;00m string_types \u001b[39mand\u001b[39;00m inferred_right \u001b[39mnot\u001b[39;00m \u001b[39min\u001b[39;00m string_types\n\u001b[0;32m   <a href='file:///c%3A/Users/churn_5stexhd/Utilities/anaconda3/lib/site-packages/pandas/core/reshape/merge.py?line=1253'>1254</a>\u001b[0m     ) \u001b[39mor\u001b[39;00m (\n\u001b[0;32m   <a href='file:///c%3A/Users/churn_5stexhd/Utilities/anaconda3/lib/site-packages/pandas/core/reshape/merge.py?line=1254'>1255</a>\u001b[0m         inferred_right \u001b[39min\u001b[39;00m string_types \u001b[39mand\u001b[39;00m inferred_left \u001b[39mnot\u001b[39;00m \u001b[39min\u001b[39;00m string_types\n\u001b[0;32m   <a href='file:///c%3A/Users/churn_5stexhd/Utilities/anaconda3/lib/site-packages/pandas/core/reshape/merge.py?line=1255'>1256</a>\u001b[0m     ):\n\u001b[1;32m-> <a href='file:///c%3A/Users/churn_5stexhd/Utilities/anaconda3/lib/site-packages/pandas/core/reshape/merge.py?line=1256'>1257</a>\u001b[0m         \u001b[39mraise\u001b[39;00m \u001b[39mValueError\u001b[39;00m(msg)\n\u001b[0;32m   <a href='file:///c%3A/Users/churn_5stexhd/Utilities/anaconda3/lib/site-packages/pandas/core/reshape/merge.py?line=1258'>1259</a>\u001b[0m \u001b[39m# datetimelikes must match exactly\u001b[39;00m\n\u001b[0;32m   <a href='file:///c%3A/Users/churn_5stexhd/Utilities/anaconda3/lib/site-packages/pandas/core/reshape/merge.py?line=1259'>1260</a>\u001b[0m \u001b[39melif\u001b[39;00m needs_i8_conversion(lk\u001b[39m.\u001b[39mdtype) \u001b[39mand\u001b[39;00m \u001b[39mnot\u001b[39;00m needs_i8_conversion(rk\u001b[39m.\u001b[39mdtype):\n",
      "\u001b[1;31mValueError\u001b[0m: You are trying to merge on int64 and object columns. If you wish to proceed you should use pd.concat"
     ]
    }
   ],
   "source": [
    "oews_df.merge(opm_df, how = 'outer', left_on = ['area', 'occ_code'], right_on = ['cbsa', '2018_soc_code'])"
   ]
  },
  {
   "cell_type": "code",
   "execution_count": null,
   "metadata": {},
   "outputs": [],
   "source": []
  }
 ],
 "metadata": {
  "interpreter": {
   "hash": "d17b7b52486b7ddd73814d01c6691018dc71175d95eb65a2b9cd66e1b85695ed"
  },
  "kernelspec": {
   "display_name": "Python 3.9.7 ('base')",
   "language": "python",
   "name": "python3"
  },
  "language_info": {
   "codemirror_mode": {
    "name": "ipython",
    "version": 3
   },
   "file_extension": ".py",
   "mimetype": "text/x-python",
   "name": "python",
   "nbconvert_exporter": "python",
   "pygments_lexer": "ipython3",
   "version": "3.9.12"
  },
  "orig_nbformat": 4
 },
 "nbformat": 4,
 "nbformat_minor": 2
}
