{
 "cells": [
  {
   "cell_type": "code",
   "execution_count": 1,
   "metadata": {},
   "outputs": [],
   "source": [
    "from pathlib import Path\n",
    "import pandas as pd\n",
    "import json\n",
    "from pandas.api.types import union_categoricals\n",
    "from itertools import islice\n",
    "import re"
   ]
  },
  {
   "cell_type": "code",
   "execution_count": 2,
   "metadata": {},
   "outputs": [],
   "source": [
    "oews_path = Path('../raw_data/oews')"
   ]
  },
  {
   "cell_type": "code",
   "execution_count": 3,
   "metadata": {},
   "outputs": [],
   "source": [
    "# Create dict with list of MSA files within each folder-year\n",
    "oews_path_dict = {}\n",
    "for folder in Path(oews_path).iterdir():\n",
    "    folder_name = folder.name\n",
    "    year = re.findall('\\d+', folder_name)[0]\n",
    "    \n",
    "    if year == '97' or year == '98' or year == '99':\n",
    "        year = '19' + year\n",
    "    else:\n",
    "        year = '20' + year\n",
    "\n",
    "    file_list = []\n",
    "    for file in Path(folder).iterdir():\n",
    "        file_name = file.name\n",
    "        file_prefix = file_name[0:3]\n",
    "\n",
    "        # All MSA files is prefixed with 'msa' or 'MSA', except for 1997, which has 'oes' prefix\n",
    "        if file_prefix == 'msa' or file_prefix == 'MSA' or file_prefix == 'oes':\n",
    "            file_list.append(file)\n",
    "\n",
    "    oews_path_dict[year] = file_list"
   ]
  },
  {
   "cell_type": "code",
   "execution_count": 4,
   "metadata": {},
   "outputs": [],
   "source": [
    "# Directory we are storing processed dataframes in binary format, for quick access later\n",
    "binary_path = Path('../cleaned_binaries/')\n",
    "binary_path.mkdir(parents = True, exist_ok = True)\n",
    "\n",
    "# Dict to store paths to processed binaries\n",
    "oews_feather_path_dict = {}"
   ]
  },
  {
   "cell_type": "code",
   "execution_count": 5,
   "metadata": {},
   "outputs": [],
   "source": [
    "# These variables we want to store as strings\n",
    "oews_dtype_dict = {\n",
    "    'area': 'string',\n",
    "    'area_name': 'string',\n",
    "    'occ_code': 'string',\n",
    "    'occ_title': 'string'\n",
    "}"
   ]
  },
  {
   "cell_type": "code",
   "execution_count": 6,
   "metadata": {},
   "outputs": [
    {
     "name": "stdout",
     "output_type": "stream",
     "text": [
      "Loading files for year 2000.\n",
      "Loading files for year 2001.\n",
      "Loading files for year 2002.\n",
      "Loading files for year 1997.\n",
      "Loading files for year 1998.\n",
      "Loading files for year 1999.\n",
      "Loading files for year 2003.\n",
      "Loading files for year 2004.\n",
      "Loading files for year 2005.\n",
      "Loading files for year 2006.\n",
      "Loading files for year 2007.\n",
      "Loading files for year 2008.\n",
      "Loading files for year 2009.\n",
      "Loading files for year 2010.\n",
      "Loading files for year 2011.\n",
      "Loading files for year 2012.\n",
      "Loading files for year 2013.\n",
      "Loading files for year 2014.\n",
      "Loading files for year 2015.\n",
      "Loading files for year 2016.\n",
      "Loading files for year 2017.\n",
      "Loading files for year 2018.\n",
      "Loading files for year 2019.\n",
      "Loading files for year 2020.\n",
      "Loading files for year 2021.\n"
     ]
    }
   ],
   "source": [
    "for year, file_list in oews_path_dict.items():\n",
    "    file_list_df_dict = {} # Dict to store all relevant dfs in each year-folder\n",
    "\n",
    "    print(f'Loading files for year {year}.')\n",
    "    \n",
    "    for file_path in file_list:\n",
    "\n",
    "        # Prior to 2001, field descriptions were placed in the header rows\n",
    "\n",
    "        if int(year) < 2001:\n",
    "            df = pd.read_excel(file_path, dtype = str)\n",
    "\n",
    "            header_row = df['Unnamed: 0'].isna().values.argmin() # Find first row that is non-empty in first column, which should be the header row\n",
    "            header = df.iloc[header_row]\n",
    "\n",
    "            # Create new df without field description and header rows, and new headers\n",
    "            new_df = df.iloc[header_row + 1:]\n",
    "            new_df = new_df.rename(columns = header)\n",
    "            \n",
    "        else:\n",
    "            new_df = pd.read_excel(file_path, header = 0, dtype = str)\n",
    "\n",
    "        # Keep only columns we want and store in df dict\n",
    "        # For year 2000, occ_title has a typo\n",
    "        if int(year) == 2000:\n",
    "            new_df.rename(columns = {'occ_titl': 'occ_title'}, inplace = True)\n",
    "\n",
    "        new_df.columns = new_df.columns.str.lower() # Convert to lowercase column titles for all years\n",
    "\n",
    "        # Starting in 2019, area_name was changed to area_title\n",
    "        if int(year) >= 2019:\n",
    "            new_df.rename(columns = {'area_title': 'area_name'}, inplace = True)\n",
    "\n",
    "        new_df = new_df[['area', 'area_name', 'occ_code', 'occ_title', 'tot_emp', 'a_mean']]\n",
    "        file_list_df_dict[file_path.name] = new_df\n",
    "\n",
    "    combined_df = pd.concat([df for df in file_list_df_dict.values()]) # Concat all dfs into one\n",
    "    combined_df.reset_index(drop = True, inplace = True)\n",
    "\n",
    "    combined_df['tot_emp'] = pd.to_numeric(combined_df['tot_emp'], errors = 'coerce')\n",
    "    combined_df['a_mean'] = pd.to_numeric(combined_df['a_mean'], errors = 'coerce')\n",
    "\n",
    "    target_path = binary_path.joinpath(f'oews_{year}.feather')\n",
    "    combined_df.to_feather(target_path)\n",
    "\n",
    "    oews_feather_path_dict[year] = str(target_path)\n"
   ]
  },
  {
   "cell_type": "code",
   "execution_count": 7,
   "metadata": {},
   "outputs": [],
   "source": [
    "# Save dictionary for paths of binaries\n",
    "with open('../code_output/oews_feather_path_dict.json', 'w') as outfile:\n",
    "    json.dump(oews_feather_path_dict, outfile, indent = 4)\n"
   ]
  },
  {
   "cell_type": "code",
   "execution_count": null,
   "metadata": {},
   "outputs": [],
   "source": []
  },
  {
   "cell_type": "code",
   "execution_count": null,
   "metadata": {},
   "outputs": [],
   "source": []
  }
 ],
 "metadata": {
  "interpreter": {
   "hash": "d17b7b52486b7ddd73814d01c6691018dc71175d95eb65a2b9cd66e1b85695ed"
  },
  "kernelspec": {
   "display_name": "Python 3.9.7 ('base')",
   "language": "python",
   "name": "python3"
  },
  "language_info": {
   "codemirror_mode": {
    "name": "ipython",
    "version": 3
   },
   "file_extension": ".py",
   "mimetype": "text/x-python",
   "name": "python",
   "nbconvert_exporter": "python",
   "pygments_lexer": "ipython3",
   "version": "3.9.12"
  },
  "orig_nbformat": 4
 },
 "nbformat": 4,
 "nbformat_minor": 2
}
